{
 "cells": [
  {
   "cell_type": "code",
   "execution_count": 1,
   "id": "ea299510-dd6d-4965-9d46-9e8ebeabe85c",
   "metadata": {},
   "outputs": [],
   "source": [
    "import numpy as np\n",
    "import pandas as pd\n",
    "import matplotlib.pyplot as plt\n",
    "import seaborn as sns\n",
    "%matplotlib inline\n",
    "\n",
    "from sklearn.metrics import mean_squared_error\n",
    "from sklearn.preprocessing import MinMaxScaler\n",
    "import math\n",
    "\n",
    "from statsmodels.tsa.stattools import adfuller\n",
    "from statsmodels.tsa.arima.model import ARIMA\n",
    "import pmdarima as pm\n",
    "import statsmodels.api as sm\n",
    "from statsmodels.graphics.tsaplots import plot_acf\n",
    "from statsmodels.graphics.tsaplots import plot_pacf\n",
    "from pmdarima.arima.utils import ndiffs\n"
   ]
  },
  {
   "cell_type": "code",
   "execution_count": 2,
   "id": "f9d096d6-5129-430c-b659-c799cf04fdc2",
   "metadata": {},
   "outputs": [],
   "source": [
    "df= pd.read_excel('../DATA/bitcoin.xlsx')"
   ]
  },
  {
   "cell_type": "code",
   "execution_count": 3,
   "id": "1c94fac4-d931-49ef-aab9-e473a129c3fb",
   "metadata": {},
   "outputs": [],
   "source": [
    "df.drop('Unnamed: 0', axis=1, inplace=True)"
   ]
  },
  {
   "cell_type": "code",
   "execution_count": 4,
   "id": "fd7e5b5e-c26f-4288-bfde-4cdebc29d429",
   "metadata": {},
   "outputs": [],
   "source": [
    "df['date']= pd.to_datetime(df[['year','month','day']])"
   ]
  },
  {
   "cell_type": "code",
   "execution_count": 5,
   "id": "f4e06115-43a9-4a3a-836a-9953119b46a5",
   "metadata": {},
   "outputs": [],
   "source": [
    "df.drop(['year','month','day','Stock Splits', 'Dividends'], axis=1,inplace=True)"
   ]
  },
  {
   "cell_type": "code",
   "execution_count": 6,
   "id": "286e41a5-c2ca-4659-b505-e387924feb0a",
   "metadata": {},
   "outputs": [],
   "source": [
    "df.set_index('date',inplace=True)"
   ]
  },
  {
   "cell_type": "code",
   "execution_count": 7,
   "id": "50497f70-80b3-4e43-95cf-211f69042c07",
   "metadata": {},
   "outputs": [],
   "source": [
    "data= df[['Close']].copy()"
   ]
  },
  {
   "cell_type": "code",
   "execution_count": 8,
   "id": "b8e2fa0f-ec8c-452c-afdb-fe41059f375b",
   "metadata": {},
   "outputs": [
    {
     "data": {
      "text/html": [
       "<div>\n",
       "<style scoped>\n",
       "    .dataframe tbody tr th:only-of-type {\n",
       "        vertical-align: middle;\n",
       "    }\n",
       "\n",
       "    .dataframe tbody tr th {\n",
       "        vertical-align: top;\n",
       "    }\n",
       "\n",
       "    .dataframe thead th {\n",
       "        text-align: right;\n",
       "    }\n",
       "</style>\n",
       "<table border=\"1\" class=\"dataframe\">\n",
       "  <thead>\n",
       "    <tr style=\"text-align: right;\">\n",
       "      <th></th>\n",
       "      <th>Close</th>\n",
       "    </tr>\n",
       "    <tr>\n",
       "      <th>date</th>\n",
       "      <th></th>\n",
       "    </tr>\n",
       "  </thead>\n",
       "  <tbody>\n",
       "    <tr>\n",
       "      <th>2014-09-17</th>\n",
       "      <td>457.334015</td>\n",
       "    </tr>\n",
       "    <tr>\n",
       "      <th>2014-09-18</th>\n",
       "      <td>424.440002</td>\n",
       "    </tr>\n",
       "    <tr>\n",
       "      <th>2014-09-19</th>\n",
       "      <td>394.795990</td>\n",
       "    </tr>\n",
       "    <tr>\n",
       "      <th>2014-09-20</th>\n",
       "      <td>408.903992</td>\n",
       "    </tr>\n",
       "    <tr>\n",
       "      <th>2014-09-21</th>\n",
       "      <td>398.821014</td>\n",
       "    </tr>\n",
       "    <tr>\n",
       "      <th>...</th>\n",
       "      <td>...</td>\n",
       "    </tr>\n",
       "    <tr>\n",
       "      <th>2023-03-21</th>\n",
       "      <td>28175.816406</td>\n",
       "    </tr>\n",
       "    <tr>\n",
       "      <th>2023-03-22</th>\n",
       "      <td>27307.437500</td>\n",
       "    </tr>\n",
       "    <tr>\n",
       "      <th>2023-03-23</th>\n",
       "      <td>28333.972656</td>\n",
       "    </tr>\n",
       "    <tr>\n",
       "      <th>2023-03-24</th>\n",
       "      <td>27493.285156</td>\n",
       "    </tr>\n",
       "    <tr>\n",
       "      <th>2023-03-25</th>\n",
       "      <td>27486.728516</td>\n",
       "    </tr>\n",
       "  </tbody>\n",
       "</table>\n",
       "<p>3112 rows × 1 columns</p>\n",
       "</div>"
      ],
      "text/plain": [
       "                   Close\n",
       "date                    \n",
       "2014-09-17    457.334015\n",
       "2014-09-18    424.440002\n",
       "2014-09-19    394.795990\n",
       "2014-09-20    408.903992\n",
       "2014-09-21    398.821014\n",
       "...                  ...\n",
       "2023-03-21  28175.816406\n",
       "2023-03-22  27307.437500\n",
       "2023-03-23  28333.972656\n",
       "2023-03-24  27493.285156\n",
       "2023-03-25  27486.728516\n",
       "\n",
       "[3112 rows x 1 columns]"
      ]
     },
     "execution_count": 8,
     "metadata": {},
     "output_type": "execute_result"
    }
   ],
   "source": [
    "data"
   ]
  },
  {
   "cell_type": "code",
   "execution_count": 9,
   "id": "d03b7650-52eb-444c-bb18-68e8eb68243d",
   "metadata": {},
   "outputs": [],
   "source": [
    "scaler=MinMaxScaler(feature_range=(0,1))"
   ]
  },
  {
   "cell_type": "code",
   "execution_count": 10,
   "id": "006ab0bc-08f1-41d1-9ef1-e9a6962474da",
   "metadata": {},
   "outputs": [],
   "source": [
    "scaled_data= scaler.fit_transform(data)"
   ]
  },
  {
   "cell_type": "code",
   "execution_count": 11,
   "id": "608e0995-b1c5-4433-ad2d-ffb12dcfe59b",
   "metadata": {},
   "outputs": [
    {
     "data": {
      "text/plain": [
       "array([[0.00414359],\n",
       "       [0.00365546],\n",
       "       [0.00321557],\n",
       "       ...,\n",
       "       [0.41781277],\n",
       "       [0.40533757],\n",
       "       [0.40524028]])"
      ]
     },
     "execution_count": 11,
     "metadata": {},
     "output_type": "execute_result"
    }
   ],
   "source": [
    "scaled_data"
   ]
  },
  {
   "cell_type": "code",
   "execution_count": 12,
   "id": "41e1ab89-f1f9-4abe-a2ff-ed439682d1b5",
   "metadata": {},
   "outputs": [
    {
     "name": "stdout",
     "output_type": "stream",
     "text": [
      "ADF Statistic: -1.549358057144826\n",
      "p-value: 0.5089688390430713\n"
     ]
    }
   ],
   "source": [
    "result= adfuller(df['Close'])\n",
    "print(f\"ADF Statistic: {result[0]}\")\n",
    "print(f\"p-value: {result[1]}\")\n"
   ]
  },
  {
   "cell_type": "code",
   "execution_count": 13,
   "id": "31772e0d-86ef-4341-aa4b-188a3fff359b",
   "metadata": {},
   "outputs": [
    {
     "data": {
      "text/plain": [
       "1"
      ]
     },
     "execution_count": 13,
     "metadata": {},
     "output_type": "execute_result"
    }
   ],
   "source": [
    "ndiffs(df.Close,test='adf')"
   ]
  },
  {
   "cell_type": "code",
   "execution_count": 14,
   "id": "818d2441-e98e-435c-b854-0365dd4d0ed9",
   "metadata": {},
   "outputs": [
    {
     "name": "stderr",
     "output_type": "stream",
     "text": [
      "C:\\Users\\User\\anaconda3\\lib\\site-packages\\statsmodels\\graphics\\tsaplots.py:348: FutureWarning: The default method 'yw' can produce PACF values outside of the [-1,1] interval. After 0.13, the default will change tounadjusted Yule-Walker ('ywm'). You can use this method now by setting method='ywm'.\n",
      "  warnings.warn(\n"
     ]
    },
    {
     "data": {
      "image/png": "[encoded data removed]",
      "text/plain": [
       "<Figure size 1600x800 with 2 Axes>"
      ]
     },
     "metadata": {},
     "output_type": "display_data"
    }
   ],
   "source": [
    "diff=df.Close.diff().dropna()\n",
    "fig,(ax1,ax2)= plt.subplots(1,2, figsize=(16,8))\n",
    "ax1.plot(diff)\n",
    "ax1.set_title('Difference Once')\n",
    "plot_pacf(diff,ax=ax2);"
   ]
  },
  {
   "cell_type": "code",
   "execution_count": 15,
   "id": "17b7c77b-f313-4d9b-953c-a485219cf9c7",
   "metadata": {},
   "outputs": [
    {
     "data": {
      "image/png": "[encoded data removed]",
      "text/plain": [
       "<Figure size 1600x800 with 2 Axes>"
      ]
     },
     "metadata": {},
     "output_type": "display_data"
    }
   ],
   "source": [
    "diff=df.Close.diff().dropna()\n",
    "fig,(ax1,ax2)= plt.subplots(1,2, figsize=(16,8))\n",
    "ax1.plot(diff)\n",
    "ax1.set_title('Difference Once')\n",
    "ax2.set_ylim(0,1)\n",
    "plot_acf(diff,ax=ax2);"
   ]
  },
  {
   "cell_type": "code",
   "execution_count": 62,
   "id": "081145c1-ea92-4dd5-8af5-6226c4fe8d52",
   "metadata": {},
   "outputs": [
    {
     "name": "stderr",
     "output_type": "stream",
     "text": [
      "C:\\Users\\User\\anaconda3\\lib\\site-packages\\statsmodels\\tsa\\base\\tsa_model.py:471: ValueWarning: No frequency information was provided, so inferred frequency D will be used.\n",
      "  self._init_dates(dates, freq)\n",
      "C:\\Users\\User\\anaconda3\\lib\\site-packages\\statsmodels\\tsa\\base\\tsa_model.py:471: ValueWarning: No frequency information was provided, so inferred frequency D will be used.\n",
      "  self._init_dates(dates, freq)\n",
      "C:\\Users\\User\\anaconda3\\lib\\site-packages\\statsmodels\\tsa\\base\\tsa_model.py:471: ValueWarning: No frequency information was provided, so inferred frequency D will be used.\n",
      "  self._init_dates(dates, freq)\n"
     ]
    }
   ],
   "source": [
    "model= ARIMA(df.Close,order=(0,1,0))\n",
    "result= model.fit()"
   ]
  },
  {
   "cell_type": "code",
   "execution_count": 63,
   "id": "40a0200c-e9ed-46a7-ad4a-6fed912c92a0",
   "metadata": {},
   "outputs": [
    {
     "name": "stdout",
     "output_type": "stream",
     "text": [
      "                               SARIMAX Results                                \n",
      "==============================================================================\n",
      "Dep. Variable:                  Close   No. Observations:                 3112\n",
      "Model:                 ARIMA(0, 1, 0)   Log Likelihood              -25179.649\n",
      "Date:                Thu, 06 Apr 2023   AIC                          50361.299\n",
      "Time:                        20:23:05   BIC                          50367.342\n",
      "Sample:                    09-17-2014   HQIC                         50363.468\n",
      "                         - 03-25-2023                                         \n",
      "Covariance Type:                  opg                                         \n",
      "==============================================================================\n",
      "                 coef    std err          z      P>|z|      [0.025      0.975]\n",
      "------------------------------------------------------------------------------\n",
      "sigma2      6.274e+05   5186.592    120.961      0.000    6.17e+05    6.38e+05\n",
      "===================================================================================\n",
      "Ljung-Box (L1) (Q):                   1.66   Jarque-Bera (JB):             36669.23\n",
      "Prob(Q):                              0.20   Prob(JB):                         0.00\n",
      "Heteroskedasticity (H):            1225.17   Skew:                            -0.21\n",
      "Prob(H) (two-sided):                  0.00   Kurtosis:                        19.81\n",
      "===================================================================================\n",
      "\n",
      "Warnings:\n",
      "[1] Covariance matrix calculated using the outer product of gradients (complex-step).\n"
     ]
    }
   ],
   "source": [
    "print(result.summary())"
   ]
  },
  {
   "cell_type": "code",
   "execution_count": 64,
   "id": "f5d2408d-d40b-491e-ad43-d9e04f0df113",
   "metadata": {},
   "outputs": [],
   "source": [
    "train_size= int(len(df)*0.8)"
   ]
  },
  {
   "cell_type": "code",
   "execution_count": 65,
   "id": "a4f8bbbd-dd35-42ab-933c-8b57614121e3",
   "metadata": {},
   "outputs": [],
   "source": [
    "train_data= df.iloc[:train_size]"
   ]
  },
  {
   "cell_type": "code",
   "execution_count": 66,
   "id": "bc52e4df-b235-4552-8276-f8bde99f6dd9",
   "metadata": {},
   "outputs": [],
   "source": [
    "test_data= df.iloc[train_size:]"
   ]
  },
  {
   "cell_type": "code",
   "execution_count": 91,
   "id": "a48a4d7c-2afb-45d0-8648-db01c5c83f1b",
   "metadata": {},
   "outputs": [
    {
     "name": "stderr",
     "output_type": "stream",
     "text": [
      "C:\\Users\\User\\anaconda3\\lib\\site-packages\\statsmodels\\tsa\\base\\tsa_model.py:471: ValueWarning: No frequency information was provided, so inferred frequency D will be used.\n",
      "  self._init_dates(dates, freq)\n",
      "C:\\Users\\User\\anaconda3\\lib\\site-packages\\statsmodels\\tsa\\base\\tsa_model.py:471: ValueWarning: No frequency information was provided, so inferred frequency D will be used.\n",
      "  self._init_dates(dates, freq)\n",
      "C:\\Users\\User\\anaconda3\\lib\\site-packages\\statsmodels\\tsa\\base\\tsa_model.py:471: ValueWarning: No frequency information was provided, so inferred frequency D will be used.\n",
      "  self._init_dates(dates, freq)\n"
     ]
    }
   ],
   "source": [
    "ARIMAmodel = ARIMA(df.Close, order = (0, 1, 0))\n",
    "ARIMAmodel = ARIMAmodel.fit()"
   ]
  },
  {
   "cell_type": "code",
   "execution_count": 92,
   "id": "11953c82-016e-4249-8434-3f87954f779e",
   "metadata": {},
   "outputs": [],
   "source": [
    "y_pred=ARIMAmodel.predict()"
   ]
  },
  {
   "cell_type": "code",
   "execution_count": 93,
   "id": "58fc91b2-f193-4f08-8f86-d83debf44f37",
   "metadata": {},
   "outputs": [],
   "source": [
    "conf_int= ARIMAmodel.get_forecast().conf_int(alpha=0.05)"
   ]
  },
  {
   "cell_type": "code",
   "execution_count": 94,
   "id": "80173002-8ff2-4c16-a359-a204831d1fab",
   "metadata": {},
   "outputs": [],
   "source": [
    "fc_series= pd.Series(y_pred,index= test_data.index)"
   ]
  },
  {
   "cell_type": "code",
   "execution_count": 95,
   "id": "fadf7f37-d18d-4db5-bf26-c10be20276a7",
   "metadata": {},
   "outputs": [],
   "source": [
    "lower_series = pd.Series(conf_int.iloc[:, 0])\n",
    "upper_series = pd.Series(conf_int.iloc[:, 1])"
   ]
  },
  {
   "cell_type": "code",
   "execution_count": 96,
   "id": "8d04b7af-6ec3-4ca4-bf85-38bb9bd319ef",
   "metadata": {},
   "outputs": [],
   "source": [
    "y_pred_df= pd.DataFrame({'Predictions': y_pred}, index=test_data.index)"
   ]
  },
  {
   "cell_type": "code",
   "execution_count": 97,
   "id": "4708b3b7-a1c3-452e-bd63-4f3884f881d8",
   "metadata": {},
   "outputs": [
    {
     "name": "stdout",
     "output_type": "stream",
     "text": [
      "Root Mean Square Error is:  1212.7513148748126\n"
     ]
    }
   ],
   "source": [
    "rmse = np.sqrt(mean_squared_error(test_data[\"Close\"], y_pred_df[\"Predictions\"]))\n",
    "print(\"Root Mean Square Error is: \",rmse)"
   ]
  },
  {
   "cell_type": "code",
   "execution_count": 98,
   "id": "b537b0da-d941-4730-b05b-f12853bef588",
   "metadata": {},
   "outputs": [
    {
     "name": "stdout",
     "output_type": "stream",
     "text": [
      "Mean Absolute Percentage Error is:  2.335046753736765\n"
     ]
    }
   ],
   "source": [
    "MAPE = np.mean(np.abs((test_data[\"Close\"].values - y_pred_df[\"Predictions\"]) / test_data[\"Close\"].values)) * 100\n",
    "print(\"Mean Absolute Percentage Error is: \",MAPE)"
   ]
  },
  {
   "cell_type": "code",
   "execution_count": 85,
   "id": "20c0fe40-9e9d-48c3-939e-86cb2c4e9262",
   "metadata": {},
   "outputs": [
    {
     "name": "stderr",
     "output_type": "stream",
     "text": [
      "C:\\Users\\User\\anaconda3\\lib\\site-packages\\statsmodels\\tsa\\base\\tsa_model.py:471: ValueWarning: No frequency information was provided, so inferred frequency D will be used.\n",
      "  self._init_dates(dates, freq)\n",
      "C:\\Users\\User\\anaconda3\\lib\\site-packages\\statsmodels\\tsa\\base\\tsa_model.py:471: ValueWarning: No frequency information was provided, so inferred frequency D will be used.\n",
      "  self._init_dates(dates, freq)\n",
      "C:\\Users\\User\\anaconda3\\lib\\site-packages\\statsmodels\\tsa\\base\\tsa_model.py:471: ValueWarning: No frequency information was provided, so inferred frequency D will be used.\n",
      "  self._init_dates(dates, freq)\n",
      "C:\\Users\\User\\anaconda3\\lib\\site-packages\\statsmodels\\tsa\\statespace\\sarimax.py:966: UserWarning: Non-stationary starting autoregressive parameters found. Using zeros as starting parameters.\n",
      "  warn('Non-stationary starting autoregressive parameters'\n"
     ]
    }
   ],
   "source": [
    "model= ARIMA(df.Close,order=(3,1,4))\n",
    "result= model.fit()"
   ]
  },
  {
   "cell_type": "code",
   "execution_count": 86,
   "id": "66c36396-221d-4e30-ba3d-807208bd7920",
   "metadata": {},
   "outputs": [
    {
     "name": "stdout",
     "output_type": "stream",
     "text": [
      "                               SARIMAX Results                                \n",
      "==============================================================================\n",
      "Dep. Variable:                  Close   No. Observations:                 3112\n",
      "Model:                 ARIMA(3, 1, 4)   Log Likelihood              -25162.442\n",
      "Date:                Thu, 06 Apr 2023   AIC                          50340.885\n",
      "Time:                        20:54:50   BIC                          50389.226\n",
      "Sample:                    09-17-2014   HQIC                         50358.241\n",
      "                         - 03-25-2023                                         \n",
      "Covariance Type:                  opg                                         \n",
      "==============================================================================\n",
      "                 coef    std err          z      P>|z|      [0.025      0.975]\n",
      "------------------------------------------------------------------------------\n",
      "ar.L1          0.2534      0.714      0.355      0.722      -1.145       1.652\n",
      "ar.L2         -0.8875      0.116     -7.667      0.000      -1.114      -0.661\n",
      "ar.L3          0.3943      0.679      0.581      0.562      -0.937       1.726\n",
      "ma.L1         -0.2767      0.713     -0.388      0.698      -1.675       1.121\n",
      "ma.L2          0.9313      0.104      8.938      0.000       0.727       1.135\n",
      "ma.L3         -0.4352      0.698     -0.624      0.533      -1.803       0.933\n",
      "ma.L4          0.0231      0.020      1.142      0.253      -0.017       0.063\n",
      "sigma2      6.263e+05   5536.717    113.121      0.000    6.15e+05    6.37e+05\n",
      "===================================================================================\n",
      "Ljung-Box (L1) (Q):                   0.00   Jarque-Bera (JB):             33192.90\n",
      "Prob(Q):                              0.97   Prob(JB):                         0.00\n",
      "Heteroskedasticity (H):            1147.54   Skew:                            -0.20\n",
      "Prob(H) (two-sided):                  0.00   Kurtosis:                        19.00\n",
      "===================================================================================\n",
      "\n",
      "Warnings:\n",
      "[1] Covariance matrix calculated using the outer product of gradients (complex-step).\n"
     ]
    }
   ],
   "source": [
    "print(result.summary())"
   ]
  },
  {
   "cell_type": "code",
   "execution_count": 87,
   "id": "de3f1262-dd55-4d4f-b912-2476786826b1",
   "metadata": {},
   "outputs": [],
   "source": [
    "y_pred=ARIMAmodel.predict()"
   ]
  },
  {
   "cell_type": "code",
   "execution_count": 88,
   "id": "a1cbc194-3266-41a3-9073-60f1fe076b98",
   "metadata": {},
   "outputs": [],
   "source": [
    "y_pred_df= pd.DataFrame({'Predictions': y_pred}, index=test_data.index)"
   ]
  },
  {
   "cell_type": "code",
   "execution_count": 89,
   "id": "a6eff2eb-d190-4e2f-9009-1f501db6c19a",
   "metadata": {},
   "outputs": [
    {
     "name": "stdout",
     "output_type": "stream",
     "text": [
      "Root Mean Square Error is:  1208.9074389000423\n"
     ]
    }
   ],
   "source": [
    "rmse = np.sqrt(mean_squared_error(test_data[\"Close\"], y_pred_df[\"Predictions\"]))\n",
    "print(\"Root Mean Square Error is: \",rmse)"
   ]
  },
  {
   "cell_type": "code",
   "execution_count": 90,
   "id": "6098f3da-9ff1-4e76-b813-22dfa1733b0b",
   "metadata": {},
   "outputs": [
    {
     "name": "stdout",
     "output_type": "stream",
     "text": [
      "Mean Absolute Percentage Error is:  2.3381007548329715\n"
     ]
    }
   ],
   "source": [
    "MAPE = np.mean(np.abs((test_data[\"Close\"].values - y_pred_df[\"Predictions\"]) / test_data[\"Close\"].values)) * 100\n",
    "print(\"Mean Absolute Percentage Error is: \",MAPE)"
   ]
  },
  {
   "cell_type": "code",
   "execution_count": 105,
   "id": "70f5a933-1154-49fc-8afd-1ae56e78a8ec",
   "metadata": {},
   "outputs": [
    {
     "name": "stderr",
     "output_type": "stream",
     "text": [
      "C:\\Users\\User\\anaconda3\\lib\\site-packages\\statsmodels\\tsa\\base\\tsa_model.py:471: ValueWarning: No frequency information was provided, so inferred frequency D will be used.\n",
      "  self._init_dates(dates, freq)\n",
      "C:\\Users\\User\\anaconda3\\lib\\site-packages\\statsmodels\\tsa\\base\\tsa_model.py:471: ValueWarning: No frequency information was provided, so inferred frequency D will be used.\n",
      "  self._init_dates(dates, freq)\n",
      "C:\\Users\\User\\anaconda3\\lib\\site-packages\\statsmodels\\tsa\\base\\tsa_model.py:471: ValueWarning: No frequency information was provided, so inferred frequency D will be used.\n",
      "  self._init_dates(dates, freq)\n",
      "C:\\Users\\User\\anaconda3\\lib\\site-packages\\statsmodels\\tsa\\statespace\\sarimax.py:966: UserWarning: Non-stationary starting autoregressive parameters found. Using zeros as starting parameters.\n",
      "  warn('Non-stationary starting autoregressive parameters'\n",
      "C:\\Users\\User\\anaconda3\\lib\\site-packages\\statsmodels\\tsa\\statespace\\sarimax.py:978: UserWarning: Non-invertible starting MA parameters found. Using zeros as starting parameters.\n",
      "  warn('Non-invertible starting MA parameters found.'\n"
     ]
    }
   ],
   "source": [
    "model= ARIMA(df.Close,order=(4,1,3))\n",
    "result= model.fit()"
   ]
  },
  {
   "cell_type": "code",
   "execution_count": 106,
   "id": "59d7f2b8-c48b-4508-ad41-d6e0ebcb0b8b",
   "metadata": {},
   "outputs": [
    {
     "name": "stdout",
     "output_type": "stream",
     "text": [
      "                               SARIMAX Results                                \n",
      "==============================================================================\n",
      "Dep. Variable:                  Close   No. Observations:                 3112\n",
      "Model:                 ARIMA(4, 1, 3)   Log Likelihood              -25166.398\n",
      "Date:                Thu, 06 Apr 2023   AIC                          50348.796\n",
      "Time:                        20:58:17   BIC                          50397.137\n",
      "Sample:                    09-17-2014   HQIC                         50366.152\n",
      "                         - 03-25-2023                                         \n",
      "Covariance Type:                  opg                                         \n",
      "==============================================================================\n",
      "                 coef    std err          z      P>|z|      [0.025      0.975]\n",
      "------------------------------------------------------------------------------\n",
      "ar.L1         -0.1100      0.708     -0.155      0.877      -1.497       1.277\n",
      "ar.L2         -0.1887      0.580     -0.325      0.745      -1.326       0.949\n",
      "ar.L3         -0.8868      0.673     -1.318      0.188      -2.206       0.432\n",
      "ar.L4          0.0017      0.010      0.162      0.871      -0.018       0.022\n",
      "ma.L1          0.0829      0.708      0.117      0.907      -1.304       1.470\n",
      "ma.L2          0.1723      0.602      0.286      0.775      -1.008       1.352\n",
      "ma.L3          0.8951      0.681      1.314      0.189      -0.440       2.231\n",
      "sigma2      6.282e+05   5474.272    114.754      0.000    6.17e+05    6.39e+05\n",
      "===================================================================================\n",
      "Ljung-Box (L1) (Q):                   0.00   Jarque-Bera (JB):             35394.18\n",
      "Prob(Q):                              0.99   Prob(JB):                         0.00\n",
      "Heteroskedasticity (H):            1199.50   Skew:                            -0.32\n",
      "Prob(H) (two-sided):                  0.00   Kurtosis:                        19.51\n",
      "===================================================================================\n",
      "\n",
      "Warnings:\n",
      "[1] Covariance matrix calculated using the outer product of gradients (complex-step).\n"
     ]
    }
   ],
   "source": [
    "print(result.summary())"
   ]
  },
  {
   "cell_type": "code",
   "execution_count": 107,
   "id": "a9f8e710-f4ab-4d8e-bb7f-705d355eb313",
   "metadata": {},
   "outputs": [],
   "source": [
    "y_pred=ARIMAmodel.predict()"
   ]
  },
  {
   "cell_type": "code",
   "execution_count": 108,
   "id": "533fa98d-8395-4e1a-878c-228a436dd7fd",
   "metadata": {},
   "outputs": [],
   "source": [
    "y_pred_df= pd.DataFrame({'Predictions': y_pred}, index=test_data.index)"
   ]
  },
  {
   "cell_type": "code",
   "execution_count": 109,
   "id": "10622758-3502-4f80-9c09-ee6e6dfe7220",
   "metadata": {},
   "outputs": [
    {
     "name": "stdout",
     "output_type": "stream",
     "text": [
      "Root Mean Square Error is:  1212.7513148748126\n"
     ]
    }
   ],
   "source": [
    "rmse = np.sqrt(mean_squared_error(test_data[\"Close\"], y_pred_df[\"Predictions\"]))\n",
    "print(\"Root Mean Square Error is: \",rmse)"
   ]
  },
  {
   "cell_type": "code",
   "execution_count": 110,
   "id": "1045350d-3499-4727-b9aa-048c38153ff1",
   "metadata": {},
   "outputs": [
    {
     "name": "stdout",
     "output_type": "stream",
     "text": [
      "Mean Absolute Percentage Error is:  2.335046753736765\n"
     ]
    }
   ],
   "source": [
    "MAPE = np.mean(np.abs((test_data[\"Close\"].values - y_pred_df[\"Predictions\"]) / test_data[\"Close\"].values)) * 100\n",
    "print(\"Mean Absolute Percentage Error is: \",MAPE)"
   ]
  },
  {
   "cell_type": "code",
   "execution_count": null,
   "id": "de172315-2611-4ea3-8ee7-721646761b3f",
   "metadata": {},
   "outputs": [],
   "source": []
  },
  {
   "cell_type": "code",
   "execution_count": 138,
   "id": "5a627517-351e-4b5a-b994-e19de5067179",
   "metadata": {},
   "outputs": [],
   "source": [
    "## DEfine a function \n",
    "\n",
    "def ARIMA_TUNER(p,d,q):\n",
    "    \n",
    "    model= ARIMA(df.Close,order=(p,d,q))\n",
    "    result= model.fit()\n",
    "    print(result.summary())\n",
    "    \n",
    "    y_pred=ARIMAmodel.predict()\n",
    "    y_pred_df= pd.DataFrame({'Predictions': y_pred}, index=test_data.index)\n",
    "    \n",
    "    rmse = np.sqrt(mean_squared_error(test_data[\"Close\"], y_pred_df[\"Predictions\"]))\n",
    "    print(\"Root Mean Square Error is: \",rmse)\n",
    "    MAPE = np.mean(np.abs((test_data[\"Close\"].values - y_pred_df[\"Predictions\"]) / test_data[\"Close\"].values)) * 100\n",
    "    print(\"Mean Absolute Percentage Error is: \",MAPE)\n",
    "    \n",
    "    \n",
    "    "
   ]
  },
  {
   "cell_type": "code",
   "execution_count": 139,
   "id": "55e761d0-52ee-4ae1-90ac-5ffc522dd4cd",
   "metadata": {},
   "outputs": [
    {
     "name": "stderr",
     "output_type": "stream",
     "text": [
      "C:\\Users\\User\\anaconda3\\lib\\site-packages\\statsmodels\\tsa\\base\\tsa_model.py:471: ValueWarning: No frequency information was provided, so inferred frequency D will be used.\n",
      "  self._init_dates(dates, freq)\n",
      "C:\\Users\\User\\anaconda3\\lib\\site-packages\\statsmodels\\tsa\\base\\tsa_model.py:471: ValueWarning: No frequency information was provided, so inferred frequency D will be used.\n",
      "  self._init_dates(dates, freq)\n",
      "C:\\Users\\User\\anaconda3\\lib\\site-packages\\statsmodels\\tsa\\base\\tsa_model.py:471: ValueWarning: No frequency information was provided, so inferred frequency D will be used.\n",
      "  self._init_dates(dates, freq)\n",
      "C:\\Users\\User\\anaconda3\\lib\\site-packages\\statsmodels\\tsa\\statespace\\sarimax.py:966: UserWarning: Non-stationary starting autoregressive parameters found. Using zeros as starting parameters.\n",
      "  warn('Non-stationary starting autoregressive parameters'\n",
      "C:\\Users\\User\\anaconda3\\lib\\site-packages\\statsmodels\\tsa\\statespace\\sarimax.py:978: UserWarning: Non-invertible starting MA parameters found. Using zeros as starting parameters.\n",
      "  warn('Non-invertible starting MA parameters found.'\n"
     ]
    },
    {
     "name": "stdout",
     "output_type": "stream",
     "text": [
      "                               SARIMAX Results                                \n",
      "==============================================================================\n",
      "Dep. Variable:                  Close   No. Observations:                 3112\n",
      "Model:                 ARIMA(3, 1, 2)   Log Likelihood              -25166.392\n",
      "Date:                Thu, 06 Apr 2023   AIC                          50344.784\n",
      "Time:                        21:11:36   BIC                          50381.040\n",
      "Sample:                    09-17-2014   HQIC                         50357.801\n",
      "                         - 03-25-2023                                         \n",
      "Covariance Type:                  opg                                         \n",
      "==============================================================================\n",
      "                 coef    std err          z      P>|z|      [0.025      0.975]\n",
      "------------------------------------------------------------------------------\n",
      "ar.L1          0.8213      0.012     66.529      0.000       0.797       0.845\n",
      "ar.L2         -0.9540      0.010    -94.737      0.000      -0.974      -0.934\n",
      "ar.L3          0.0014      0.010      0.143      0.887      -0.018       0.021\n",
      "ma.L1         -0.8480      0.009    -99.695      0.000      -0.865      -0.831\n",
      "ma.L2          0.9619      0.008    116.009      0.000       0.946       0.978\n",
      "sigma2      6.277e+05   5400.516    116.233      0.000    6.17e+05    6.38e+05\n",
      "===================================================================================\n",
      "Ljung-Box (L1) (Q):                   0.00   Jarque-Bera (JB):             35386.75\n",
      "Prob(Q):                              0.99   Prob(JB):                         0.00\n",
      "Heteroskedasticity (H):            1199.71   Skew:                            -0.32\n",
      "Prob(H) (two-sided):                  0.00   Kurtosis:                        19.51\n",
      "===================================================================================\n",
      "\n",
      "Warnings:\n",
      "[1] Covariance matrix calculated using the outer product of gradients (complex-step).\n",
      "Root Mean Square Error is:  1212.7513148748126\n",
      "Mean Absolute Percentage Error is:  2.335046753736765\n"
     ]
    },
    {
     "name": "stderr",
     "output_type": "stream",
     "text": [
      "C:\\Users\\User\\anaconda3\\lib\\site-packages\\statsmodels\\base\\model.py:604: ConvergenceWarning: Maximum Likelihood optimization failed to converge. Check mle_retvals\n",
      "  warnings.warn(\"Maximum Likelihood optimization failed to \"\n"
     ]
    }
   ],
   "source": [
    "ARIMA_TUNER(3,1,2)"
   ]
  },
  {
   "cell_type": "code",
   "execution_count": 140,
   "id": "bd5f6337-8945-4911-9a33-743ea79b0b77",
   "metadata": {},
   "outputs": [
    {
     "name": "stdout",
     "output_type": "stream",
     "text": [
      "                               SARIMAX Results                                \n",
      "==============================================================================\n",
      "Dep. Variable:                  Close   No. Observations:                 3112\n",
      "Model:                 ARIMA(0, 1, 0)   Log Likelihood              -25179.649\n",
      "Date:                Thu, 06 Apr 2023   AIC                          50361.299\n",
      "Time:                        21:11:51   BIC                          50367.342\n",
      "Sample:                    09-17-2014   HQIC                         50363.468\n",
      "                         - 03-25-2023                                         \n",
      "Covariance Type:                  opg                                         \n",
      "==============================================================================\n",
      "                 coef    std err          z      P>|z|      [0.025      0.975]\n",
      "------------------------------------------------------------------------------\n",
      "sigma2      6.274e+05   5186.592    120.961      0.000    6.17e+05    6.38e+05\n",
      "===================================================================================\n",
      "Ljung-Box (L1) (Q):                   1.66   Jarque-Bera (JB):             36669.23\n",
      "Prob(Q):                              0.20   Prob(JB):                         0.00\n",
      "Heteroskedasticity (H):            1225.17   Skew:                            -0.21\n",
      "Prob(H) (two-sided):                  0.00   Kurtosis:                        19.81\n",
      "===================================================================================\n",
      "\n",
      "Warnings:\n",
      "[1] Covariance matrix calculated using the outer product of gradients (complex-step).\n",
      "Root Mean Square Error is:  1212.7513148748126\n",
      "Mean Absolute Percentage Error is:  2.335046753736765\n"
     ]
    },
    {
     "name": "stderr",
     "output_type": "stream",
     "text": [
      "C:\\Users\\User\\anaconda3\\lib\\site-packages\\statsmodels\\tsa\\base\\tsa_model.py:471: ValueWarning: No frequency information was provided, so inferred frequency D will be used.\n",
      "  self._init_dates(dates, freq)\n",
      "C:\\Users\\User\\anaconda3\\lib\\site-packages\\statsmodels\\tsa\\base\\tsa_model.py:471: ValueWarning: No frequency information was provided, so inferred frequency D will be used.\n",
      "  self._init_dates(dates, freq)\n",
      "C:\\Users\\User\\anaconda3\\lib\\site-packages\\statsmodels\\tsa\\base\\tsa_model.py:471: ValueWarning: No frequency information was provided, so inferred frequency D will be used.\n",
      "  self._init_dates(dates, freq)\n"
     ]
    }
   ],
   "source": [
    "ARIMA_TUNER(0,1,0)"
   ]
  },
  {
   "cell_type": "code",
   "execution_count": 141,
   "id": "4ab67aca-9497-4eb8-8f17-f33fafe91411",
   "metadata": {},
   "outputs": [
    {
     "name": "stderr",
     "output_type": "stream",
     "text": [
      "C:\\Users\\User\\anaconda3\\lib\\site-packages\\statsmodels\\tsa\\base\\tsa_model.py:471: ValueWarning: No frequency information was provided, so inferred frequency D will be used.\n",
      "  self._init_dates(dates, freq)\n",
      "C:\\Users\\User\\anaconda3\\lib\\site-packages\\statsmodels\\tsa\\base\\tsa_model.py:471: ValueWarning: No frequency information was provided, so inferred frequency D will be used.\n",
      "  self._init_dates(dates, freq)\n",
      "C:\\Users\\User\\anaconda3\\lib\\site-packages\\statsmodels\\tsa\\base\\tsa_model.py:471: ValueWarning: No frequency information was provided, so inferred frequency D will be used.\n",
      "  self._init_dates(dates, freq)\n"
     ]
    },
    {
     "name": "stdout",
     "output_type": "stream",
     "text": [
      "                               SARIMAX Results                                \n",
      "==============================================================================\n",
      "Dep. Variable:                  Close   No. Observations:                 3112\n",
      "Model:                ARIMA(10, 1, 2)   Log Likelihood              -25156.118\n",
      "Date:                Thu, 06 Apr 2023   AIC                          50338.236\n",
      "Time:                        21:12:16   BIC                          50416.791\n",
      "Sample:                    09-17-2014   HQIC                         50366.440\n",
      "                         - 03-25-2023                                         \n",
      "Covariance Type:                  opg                                         \n",
      "==============================================================================\n",
      "                 coef    std err          z      P>|z|      [0.025      0.975]\n",
      "------------------------------------------------------------------------------\n",
      "ar.L1          0.2861      0.198      1.447      0.148      -0.101       0.674\n",
      "ar.L2         -0.3468      0.087     -3.977      0.000      -0.518      -0.176\n",
      "ar.L3          0.0089      0.012      0.776      0.438      -0.014       0.031\n",
      "ar.L4          0.0300      0.010      2.996      0.003       0.010       0.050\n",
      "ar.L5          0.0089      0.010      0.854      0.393      -0.011       0.029\n",
      "ar.L6          0.0301      0.010      3.113      0.002       0.011       0.049\n",
      "ar.L7         -0.0509      0.010     -5.239      0.000      -0.070      -0.032\n",
      "ar.L8         -0.0149      0.013     -1.108      0.268      -0.041       0.011\n",
      "ar.L9          0.0734      0.012      6.316      0.000       0.051       0.096\n",
      "ar.L10         0.0011      0.023      0.048      0.961      -0.044       0.046\n",
      "ma.L1         -0.3109      0.197     -1.581      0.114      -0.696       0.075\n",
      "ma.L2          0.3691      0.089      4.126      0.000       0.194       0.545\n",
      "sigma2      6.211e+05   5349.398    116.111      0.000    6.11e+05    6.32e+05\n",
      "===================================================================================\n",
      "Ljung-Box (L1) (Q):                   0.00   Jarque-Bera (JB):             35397.86\n",
      "Prob(Q):                              0.99   Prob(JB):                         0.00\n",
      "Heteroskedasticity (H):            1191.12   Skew:                            -0.30\n",
      "Prob(H) (two-sided):                  0.00   Kurtosis:                        19.51\n",
      "===================================================================================\n",
      "\n",
      "Warnings:\n",
      "[1] Covariance matrix calculated using the outer product of gradients (complex-step).\n",
      "Root Mean Square Error is:  1212.7513148748126\n",
      "Mean Absolute Percentage Error is:  2.335046753736765\n"
     ]
    }
   ],
   "source": [
    "ARIMA_TUNER(10,1,2)"
   ]
  },
  {
   "cell_type": "code",
   "execution_count": null,
   "id": "483e98c6-0365-4841-9788-5b16adb7f552",
   "metadata": {},
   "outputs": [],
   "source": []
  }
 ],
 "metadata": {
  "kernelspec": {
   "display_name": "Python 3 (ipykernel)",
   "language": "python",
   "name": "python3"
  },
  "language_info": {
   "codemirror_mode": {
    "name": "ipython",
    "version": 3
   },
   "file_extension": ".py",
   "mimetype": "text/x-python",
   "name": "python",
   "nbconvert_exporter": "python",
   "pygments_lexer": "ipython3",
   "version": "3.9.13"
  }
 },
 "nbformat": 4,
 "nbformat_minor": 5
}
