{
 "cells": [
  {
   "cell_type": "markdown",
   "id": "603007b2-aeb2-4452-89de-2963cbb2d509",
   "metadata": {},
   "source": [
    "## Loading necessary library and data"
   ]
  },
  {
   "cell_type": "code",
   "execution_count": 104,
   "id": "da78e351-0a0f-4ba0-9aee-3d06cde2f84b",
   "metadata": {},
   "outputs": [],
   "source": [
    "import numpy as np\n",
    "import pandas as pd\n",
    "\n",
    "%matplotlib inline\n",
    "import matplotlib.pyplot as plt\n",
    "import seaborn as sns"
   ]
  },
  {
   "cell_type": "code",
   "execution_count": 105,
   "id": "01f88b19-3450-4288-835e-123642b7f0cb",
   "metadata": {},
   "outputs": [
    {
     "data": {
      "text/html": [
       "<div>\n",
       "<style scoped>\n",
       "    .dataframe tbody tr th:only-of-type {\n",
       "        vertical-align: middle;\n",
       "    }\n",
       "\n",
       "    .dataframe tbody tr th {\n",
       "        vertical-align: top;\n",
       "    }\n",
       "\n",
       "    .dataframe thead th {\n",
       "        text-align: right;\n",
       "    }\n",
       "</style>\n",
       "<table border=\"1\" class=\"dataframe\">\n",
       "  <thead>\n",
       "    <tr style=\"text-align: right;\">\n",
       "      <th></th>\n",
       "      <th>Open</th>\n",
       "      <th>High</th>\n",
       "      <th>Low</th>\n",
       "      <th>Close</th>\n",
       "      <th>Volume</th>\n",
       "      <th>Dividends</th>\n",
       "      <th>Stock Splits</th>\n",
       "    </tr>\n",
       "    <tr>\n",
       "      <th>date</th>\n",
       "      <th></th>\n",
       "      <th></th>\n",
       "      <th></th>\n",
       "      <th></th>\n",
       "      <th></th>\n",
       "      <th></th>\n",
       "      <th></th>\n",
       "    </tr>\n",
       "  </thead>\n",
       "  <tbody>\n",
       "    <tr>\n",
       "      <th>1998-01-26</th>\n",
       "      <td>0.147936</td>\n",
       "      <td>0.148888</td>\n",
       "      <td>0.143180</td>\n",
       "      <td>0.147936</td>\n",
       "      <td>146440000</td>\n",
       "      <td>0.0</td>\n",
       "      <td>0</td>\n",
       "    </tr>\n",
       "    <tr>\n",
       "      <th>1998-01-27</th>\n",
       "      <td>0.146034</td>\n",
       "      <td>0.149839</td>\n",
       "      <td>0.144607</td>\n",
       "      <td>0.145558</td>\n",
       "      <td>112235200</td>\n",
       "      <td>0.0</td>\n",
       "      <td>0</td>\n",
       "    </tr>\n",
       "    <tr>\n",
       "      <th>1998-01-28</th>\n",
       "      <td>0.146034</td>\n",
       "      <td>0.147461</td>\n",
       "      <td>0.141753</td>\n",
       "      <td>0.146034</td>\n",
       "      <td>151121600</td>\n",
       "      <td>0.0</td>\n",
       "      <td>0</td>\n",
       "    </tr>\n",
       "    <tr>\n",
       "      <th>1998-01-29</th>\n",
       "      <td>0.144131</td>\n",
       "      <td>0.145558</td>\n",
       "      <td>0.140802</td>\n",
       "      <td>0.140802</td>\n",
       "      <td>211881600</td>\n",
       "      <td>0.0</td>\n",
       "      <td>0</td>\n",
       "    </tr>\n",
       "    <tr>\n",
       "      <th>1998-01-30</th>\n",
       "      <td>0.139374</td>\n",
       "      <td>0.143655</td>\n",
       "      <td>0.138898</td>\n",
       "      <td>0.139374</td>\n",
       "      <td>162444800</td>\n",
       "      <td>0.0</td>\n",
       "      <td>0</td>\n",
       "    </tr>\n",
       "    <tr>\n",
       "      <th>...</th>\n",
       "      <td>...</td>\n",
       "      <td>...</td>\n",
       "      <td>...</td>\n",
       "      <td>...</td>\n",
       "      <td>...</td>\n",
       "      <td>...</td>\n",
       "      <td>...</td>\n",
       "    </tr>\n",
       "    <tr>\n",
       "      <th>2023-01-19</th>\n",
       "      <td>134.080002</td>\n",
       "      <td>136.250000</td>\n",
       "      <td>133.770004</td>\n",
       "      <td>135.270004</td>\n",
       "      <td>58280400</td>\n",
       "      <td>0.0</td>\n",
       "      <td>0</td>\n",
       "    </tr>\n",
       "    <tr>\n",
       "      <th>2023-01-20</th>\n",
       "      <td>135.279999</td>\n",
       "      <td>138.020004</td>\n",
       "      <td>134.220001</td>\n",
       "      <td>137.869995</td>\n",
       "      <td>79972200</td>\n",
       "      <td>0.0</td>\n",
       "      <td>0</td>\n",
       "    </tr>\n",
       "    <tr>\n",
       "      <th>2023-01-23</th>\n",
       "      <td>138.119995</td>\n",
       "      <td>143.320007</td>\n",
       "      <td>137.899994</td>\n",
       "      <td>141.110001</td>\n",
       "      <td>81760300</td>\n",
       "      <td>0.0</td>\n",
       "      <td>0</td>\n",
       "    </tr>\n",
       "    <tr>\n",
       "      <th>2023-01-24</th>\n",
       "      <td>140.309998</td>\n",
       "      <td>143.160004</td>\n",
       "      <td>140.300003</td>\n",
       "      <td>142.529999</td>\n",
       "      <td>66435100</td>\n",
       "      <td>0.0</td>\n",
       "      <td>0</td>\n",
       "    </tr>\n",
       "    <tr>\n",
       "      <th>2023-01-25</th>\n",
       "      <td>140.889999</td>\n",
       "      <td>142.429993</td>\n",
       "      <td>138.809998</td>\n",
       "      <td>141.860001</td>\n",
       "      <td>65652500</td>\n",
       "      <td>0.0</td>\n",
       "      <td>0</td>\n",
       "    </tr>\n",
       "  </tbody>\n",
       "</table>\n",
       "<p>6292 rows × 7 columns</p>\n",
       "</div>"
      ],
      "text/plain": [
       "                  Open        High         Low       Close     Volume  \\\n",
       "date                                                                    \n",
       "1998-01-26    0.147936    0.148888    0.143180    0.147936  146440000   \n",
       "1998-01-27    0.146034    0.149839    0.144607    0.145558  112235200   \n",
       "1998-01-28    0.146034    0.147461    0.141753    0.146034  151121600   \n",
       "1998-01-29    0.144131    0.145558    0.140802    0.140802  211881600   \n",
       "1998-01-30    0.139374    0.143655    0.138898    0.139374  162444800   \n",
       "...                ...         ...         ...         ...        ...   \n",
       "2023-01-19  134.080002  136.250000  133.770004  135.270004   58280400   \n",
       "2023-01-20  135.279999  138.020004  134.220001  137.869995   79972200   \n",
       "2023-01-23  138.119995  143.320007  137.899994  141.110001   81760300   \n",
       "2023-01-24  140.309998  143.160004  140.300003  142.529999   66435100   \n",
       "2023-01-25  140.889999  142.429993  138.809998  141.860001   65652500   \n",
       "\n",
       "            Dividends  Stock Splits  \n",
       "date                                 \n",
       "1998-01-26        0.0             0  \n",
       "1998-01-27        0.0             0  \n",
       "1998-01-28        0.0             0  \n",
       "1998-01-29        0.0             0  \n",
       "1998-01-30        0.0             0  \n",
       "...               ...           ...  \n",
       "2023-01-19        0.0             0  \n",
       "2023-01-20        0.0             0  \n",
       "2023-01-23        0.0             0  \n",
       "2023-01-24        0.0             0  \n",
       "2023-01-25        0.0             0  \n",
       "\n",
       "[6292 rows x 7 columns]"
      ]
     },
     "execution_count": 105,
     "metadata": {},
     "output_type": "execute_result"
    }
   ],
   "source": [
    "data=pd.read_excel('../DATA/AAPLStocks.xlsx')\n",
    "data.drop('Unnamed: 0', axis=1, inplace=True)\n",
    "data['date']= pd.to_datetime(data[['Year', 'month','day']])\n",
    "data.set_index('date', inplace=True)\n",
    "data.drop(['Year', 'month','day'], axis=1,inplace=True)\n",
    "data"
   ]
  },
  {
   "cell_type": "markdown",
   "id": "90886d7a-20a6-4558-86df-9d92e72cac01",
   "metadata": {},
   "source": [
    "Creating tomorrow column by shifting the close price. Basically it has the closing price of tomorrow close price. Target will be the price will go up or down."
   ]
  },
  {
   "cell_type": "code",
   "execution_count": 106,
   "id": "c5abad94-db3a-4bf2-83f3-7229d254af28",
   "metadata": {},
   "outputs": [],
   "source": [
    "data['tomorrow']= data['Close'].shift(-1)"
   ]
  },
  {
   "cell_type": "code",
   "execution_count": 107,
   "id": "098c588d-b19b-4dbd-849e-a9b2e7b360e9",
   "metadata": {},
   "outputs": [],
   "source": [
    "data['target']= (data['tomorrow']>data['Close']).astype(int)"
   ]
  },
  {
   "cell_type": "code",
   "execution_count": 108,
   "id": "b4721749-c136-436d-8fcc-325a9eac051a",
   "metadata": {},
   "outputs": [
    {
     "data": {
      "text/html": [
       "<div>\n",
       "<style scoped>\n",
       "    .dataframe tbody tr th:only-of-type {\n",
       "        vertical-align: middle;\n",
       "    }\n",
       "\n",
       "    .dataframe tbody tr th {\n",
       "        vertical-align: top;\n",
       "    }\n",
       "\n",
       "    .dataframe thead th {\n",
       "        text-align: right;\n",
       "    }\n",
       "</style>\n",
       "<table border=\"1\" class=\"dataframe\">\n",
       "  <thead>\n",
       "    <tr style=\"text-align: right;\">\n",
       "      <th></th>\n",
       "      <th>Open</th>\n",
       "      <th>High</th>\n",
       "      <th>Low</th>\n",
       "      <th>Close</th>\n",
       "      <th>Volume</th>\n",
       "      <th>Dividends</th>\n",
       "      <th>Stock Splits</th>\n",
       "      <th>tomorrow</th>\n",
       "      <th>target</th>\n",
       "    </tr>\n",
       "    <tr>\n",
       "      <th>date</th>\n",
       "      <th></th>\n",
       "      <th></th>\n",
       "      <th></th>\n",
       "      <th></th>\n",
       "      <th></th>\n",
       "      <th></th>\n",
       "      <th></th>\n",
       "      <th></th>\n",
       "      <th></th>\n",
       "    </tr>\n",
       "  </thead>\n",
       "  <tbody>\n",
       "    <tr>\n",
       "      <th>1998-01-26</th>\n",
       "      <td>0.147936</td>\n",
       "      <td>0.148888</td>\n",
       "      <td>0.143180</td>\n",
       "      <td>0.147936</td>\n",
       "      <td>146440000</td>\n",
       "      <td>0.0</td>\n",
       "      <td>0</td>\n",
       "      <td>0.145558</td>\n",
       "      <td>0</td>\n",
       "    </tr>\n",
       "    <tr>\n",
       "      <th>1998-01-27</th>\n",
       "      <td>0.146034</td>\n",
       "      <td>0.149839</td>\n",
       "      <td>0.144607</td>\n",
       "      <td>0.145558</td>\n",
       "      <td>112235200</td>\n",
       "      <td>0.0</td>\n",
       "      <td>0</td>\n",
       "      <td>0.146034</td>\n",
       "      <td>1</td>\n",
       "    </tr>\n",
       "    <tr>\n",
       "      <th>1998-01-28</th>\n",
       "      <td>0.146034</td>\n",
       "      <td>0.147461</td>\n",
       "      <td>0.141753</td>\n",
       "      <td>0.146034</td>\n",
       "      <td>151121600</td>\n",
       "      <td>0.0</td>\n",
       "      <td>0</td>\n",
       "      <td>0.140802</td>\n",
       "      <td>0</td>\n",
       "    </tr>\n",
       "    <tr>\n",
       "      <th>1998-01-29</th>\n",
       "      <td>0.144131</td>\n",
       "      <td>0.145558</td>\n",
       "      <td>0.140802</td>\n",
       "      <td>0.140802</td>\n",
       "      <td>211881600</td>\n",
       "      <td>0.0</td>\n",
       "      <td>0</td>\n",
       "      <td>0.139374</td>\n",
       "      <td>0</td>\n",
       "    </tr>\n",
       "    <tr>\n",
       "      <th>1998-01-30</th>\n",
       "      <td>0.139374</td>\n",
       "      <td>0.143655</td>\n",
       "      <td>0.138898</td>\n",
       "      <td>0.139374</td>\n",
       "      <td>162444800</td>\n",
       "      <td>0.0</td>\n",
       "      <td>0</td>\n",
       "      <td>0.134617</td>\n",
       "      <td>0</td>\n",
       "    </tr>\n",
       "    <tr>\n",
       "      <th>...</th>\n",
       "      <td>...</td>\n",
       "      <td>...</td>\n",
       "      <td>...</td>\n",
       "      <td>...</td>\n",
       "      <td>...</td>\n",
       "      <td>...</td>\n",
       "      <td>...</td>\n",
       "      <td>...</td>\n",
       "      <td>...</td>\n",
       "    </tr>\n",
       "    <tr>\n",
       "      <th>2023-01-19</th>\n",
       "      <td>134.080002</td>\n",
       "      <td>136.250000</td>\n",
       "      <td>133.770004</td>\n",
       "      <td>135.270004</td>\n",
       "      <td>58280400</td>\n",
       "      <td>0.0</td>\n",
       "      <td>0</td>\n",
       "      <td>137.869995</td>\n",
       "      <td>1</td>\n",
       "    </tr>\n",
       "    <tr>\n",
       "      <th>2023-01-20</th>\n",
       "      <td>135.279999</td>\n",
       "      <td>138.020004</td>\n",
       "      <td>134.220001</td>\n",
       "      <td>137.869995</td>\n",
       "      <td>79972200</td>\n",
       "      <td>0.0</td>\n",
       "      <td>0</td>\n",
       "      <td>141.110001</td>\n",
       "      <td>1</td>\n",
       "    </tr>\n",
       "    <tr>\n",
       "      <th>2023-01-23</th>\n",
       "      <td>138.119995</td>\n",
       "      <td>143.320007</td>\n",
       "      <td>137.899994</td>\n",
       "      <td>141.110001</td>\n",
       "      <td>81760300</td>\n",
       "      <td>0.0</td>\n",
       "      <td>0</td>\n",
       "      <td>142.529999</td>\n",
       "      <td>1</td>\n",
       "    </tr>\n",
       "    <tr>\n",
       "      <th>2023-01-24</th>\n",
       "      <td>140.309998</td>\n",
       "      <td>143.160004</td>\n",
       "      <td>140.300003</td>\n",
       "      <td>142.529999</td>\n",
       "      <td>66435100</td>\n",
       "      <td>0.0</td>\n",
       "      <td>0</td>\n",
       "      <td>141.860001</td>\n",
       "      <td>0</td>\n",
       "    </tr>\n",
       "    <tr>\n",
       "      <th>2023-01-25</th>\n",
       "      <td>140.889999</td>\n",
       "      <td>142.429993</td>\n",
       "      <td>138.809998</td>\n",
       "      <td>141.860001</td>\n",
       "      <td>65652500</td>\n",
       "      <td>0.0</td>\n",
       "      <td>0</td>\n",
       "      <td>NaN</td>\n",
       "      <td>0</td>\n",
       "    </tr>\n",
       "  </tbody>\n",
       "</table>\n",
       "<p>6292 rows × 9 columns</p>\n",
       "</div>"
      ],
      "text/plain": [
       "                  Open        High         Low       Close     Volume  \\\n",
       "date                                                                    \n",
       "1998-01-26    0.147936    0.148888    0.143180    0.147936  146440000   \n",
       "1998-01-27    0.146034    0.149839    0.144607    0.145558  112235200   \n",
       "1998-01-28    0.146034    0.147461    0.141753    0.146034  151121600   \n",
       "1998-01-29    0.144131    0.145558    0.140802    0.140802  211881600   \n",
       "1998-01-30    0.139374    0.143655    0.138898    0.139374  162444800   \n",
       "...                ...         ...         ...         ...        ...   \n",
       "2023-01-19  134.080002  136.250000  133.770004  135.270004   58280400   \n",
       "2023-01-20  135.279999  138.020004  134.220001  137.869995   79972200   \n",
       "2023-01-23  138.119995  143.320007  137.899994  141.110001   81760300   \n",
       "2023-01-24  140.309998  143.160004  140.300003  142.529999   66435100   \n",
       "2023-01-25  140.889999  142.429993  138.809998  141.860001   65652500   \n",
       "\n",
       "            Dividends  Stock Splits    tomorrow  target  \n",
       "date                                                     \n",
       "1998-01-26        0.0             0    0.145558       0  \n",
       "1998-01-27        0.0             0    0.146034       1  \n",
       "1998-01-28        0.0             0    0.140802       0  \n",
       "1998-01-29        0.0             0    0.139374       0  \n",
       "1998-01-30        0.0             0    0.134617       0  \n",
       "...               ...           ...         ...     ...  \n",
       "2023-01-19        0.0             0  137.869995       1  \n",
       "2023-01-20        0.0             0  141.110001       1  \n",
       "2023-01-23        0.0             0  142.529999       1  \n",
       "2023-01-24        0.0             0  141.860001       0  \n",
       "2023-01-25        0.0             0         NaN       0  \n",
       "\n",
       "[6292 rows x 9 columns]"
      ]
     },
     "execution_count": 108,
     "metadata": {},
     "output_type": "execute_result"
    }
   ],
   "source": [
    "data"
   ]
  },
  {
   "cell_type": "code",
   "execution_count": 109,
   "id": "b17df719-2f7d-40f5-8b01-a744c4aaf104",
   "metadata": {},
   "outputs": [
    {
     "data": {
      "text/plain": [
       "1    3282\n",
       "0    3010\n",
       "Name: target, dtype: int64"
      ]
     },
     "execution_count": 109,
     "metadata": {},
     "output_type": "execute_result"
    }
   ],
   "source": [
    "data.target.value_counts()"
   ]
  },
  {
   "cell_type": "markdown",
   "id": "2f0a21f7-1a15-4016-a8ed-bf89780215b4",
   "metadata": {},
   "source": [
    "## Random Forest"
   ]
  },
  {
   "cell_type": "code",
   "execution_count": 188,
   "id": "572704a1-c986-4376-a158-c9cf01736153",
   "metadata": {},
   "outputs": [
    {
     "data": {
      "text/plain": [
       "RandomForestClassifier(max_depth=3, min_samples_split=100, n_estimators=200,\n",
       "                       random_state=1)"
      ]
     },
     "execution_count": 188,
     "metadata": {},
     "output_type": "execute_result"
    }
   ],
   "source": [
    "from sklearn.ensemble import RandomForestClassifier\n",
    "\n",
    "model = RandomForestClassifier(n_estimators=200, min_samples_split=100, max_depth=3,random_state=1)\n",
    "\n",
    "train = data.iloc[:5000]\n",
    "test = data.iloc[5000:]\n",
    "\n",
    "predictors = [\"Close\", \"Volume\", \"Open\", \"High\", \"Low\"]\n",
    "model.fit(train[predictors], train[\"target\"])"
   ]
  },
  {
   "cell_type": "code",
   "execution_count": 189,
   "id": "a21793af-7aaf-41e5-a9ac-6306c41e8929",
   "metadata": {},
   "outputs": [
    {
     "data": {
      "text/plain": [
       "0.4796137339055794"
      ]
     },
     "execution_count": 189,
     "metadata": {},
     "output_type": "execute_result"
    }
   ],
   "source": [
    "model.score(test[predictors],test['target'])"
   ]
  },
  {
   "cell_type": "code",
   "execution_count": 190,
   "id": "f667b115-4f06-4459-8879-dd5e1c08f7f1",
   "metadata": {},
   "outputs": [
    {
     "data": {
      "text/plain": [
       "0.5217391304347826"
      ]
     },
     "execution_count": 190,
     "metadata": {},
     "output_type": "execute_result"
    }
   ],
   "source": [
    "from sklearn.metrics import precision_score\n",
    "\n",
    "preds = model.predict(test[predictors])\n",
    "preds = pd.Series(preds, index=test.index)\n",
    "precision_score(test[\"target\"], preds)"
   ]
  },
  {
   "cell_type": "code",
   "execution_count": 191,
   "id": "1f6323e7-6040-4b26-8e98-bd4a95d76b0d",
   "metadata": {},
   "outputs": [],
   "source": [
    "from sklearn.metrics import roc_curve, auc\n",
    "from sklearn.metrics import accuracy_score, confusion_matrix\n",
    "from sklearn.metrics import classification_report"
   ]
  },
  {
   "cell_type": "code",
   "execution_count": 192,
   "id": "c5eb5270-3f86-467b-ac28-61f425a9b685",
   "metadata": {},
   "outputs": [
    {
     "name": "stdout",
     "output_type": "stream",
     "text": [
      "Accuracy is:  0.4796137339055794\n"
     ]
    }
   ],
   "source": [
    "\n",
    "ac = accuracy_score(test['target'],preds)\n",
    "print('Accuracy is: ',ac)"
   ]
  },
  {
   "cell_type": "code",
   "execution_count": 202,
   "id": "48a9de14-1bec-4f19-b74e-02d1c3583247",
   "metadata": {},
   "outputs": [
    {
     "name": "stdout",
     "output_type": "stream",
     "text": [
      "              precision    recall  f1-score   support\n",
      "\n",
      "           0       0.47      0.90      0.62       443\n",
      "           1       0.52      0.10      0.17       489\n",
      "\n",
      "    accuracy                           0.48       932\n",
      "   macro avg       0.50      0.50      0.39       932\n",
      "weighted avg       0.50      0.48      0.38       932\n",
      "\n"
     ]
    },
    {
     "data": {
      "image/png": "[encoded data removed]",
      "text/plain": [
       "<Figure size 640x480 with 2 Axes>"
      ]
     },
     "metadata": {},
     "output_type": "display_data"
    }
   ],
   "source": [
    "cm = confusion_matrix(test['target'], preds)\n",
    "sns.heatmap(cm,annot=True,fmt=\"d\");\n",
    "print(classification_report(test['target'], preds))\n",
    "plt.title('Confusion Matrix')\n",
    "plt.savefig('heat_map.png')"
   ]
  },
  {
   "cell_type": "code",
   "execution_count": 175,
   "id": "32da5c7a-1fc4-4f7e-9fe3-c6defcedade6",
   "metadata": {},
   "outputs": [],
   "source": [
    "from sklearn.model_selection import GridSearchCV"
   ]
  },
  {
   "cell_type": "code",
   "execution_count": 38,
   "id": "42700fe2-9bd8-41fc-b507-a56a41e10db5",
   "metadata": {},
   "outputs": [],
   "source": [
    "grid_param={ 'n_estimators':[50,80,100,],\n",
    "            'criterion' :['gini','entropy'],\n",
    "            'max_depth' : range(1,15),\n",
    "            'min_samples_leaf': range(1,5),\n",
    "            'min_samples_split': range(1,5),\n",
    "            'max_features': ['auto', 'log2'] }"
   ]
  },
  {
   "cell_type": "code",
   "execution_count": 39,
   "id": "1460e343-d541-4047-a99d-6786d47754c2",
   "metadata": {},
   "outputs": [],
   "source": [
    "grid_search=GridSearchCV(RandomForestClassifier(), param_grid= grid_param)"
   ]
  },
  {
   "cell_type": "code",
   "execution_count": 40,
   "id": "a9e1c65f-80d0-4a3f-bbcb-d808e994eb19",
   "metadata": {
    "collapsed": true,
    "jupyter": {
     "outputs_hidden": true
    },
    "tags": []
   },
   "outputs": [
    {
     "ename": "KeyboardInterrupt",
     "evalue": "",
     "output_type": "error",
     "traceback": [
      "\u001b[1;31m---------------------------------------------------------------------------\u001b[0m",
      "\u001b[1;31mKeyboardInterrupt\u001b[0m                         Traceback (most recent call last)",
      "\u001b[1;32m~\\AppData\\Local\\Temp\\ipykernel_3652\\3707835938.py\u001b[0m in \u001b[0;36m<module>\u001b[1;34m\u001b[0m\n\u001b[1;32m----> 1\u001b[1;33m \u001b[0mgrid_search\u001b[0m\u001b[1;33m.\u001b[0m\u001b[0mfit\u001b[0m\u001b[1;33m(\u001b[0m\u001b[0mtrain\u001b[0m\u001b[1;33m[\u001b[0m\u001b[0mpredictors\u001b[0m\u001b[1;33m]\u001b[0m\u001b[1;33m,\u001b[0m \u001b[0mtrain\u001b[0m\u001b[1;33m[\u001b[0m\u001b[1;34m\"target\"\u001b[0m\u001b[1;33m]\u001b[0m\u001b[1;33m)\u001b[0m\u001b[1;33m\u001b[0m\u001b[1;33m\u001b[0m\u001b[0m\n\u001b[0m",
      "\u001b[1;32m~\\anaconda3\\lib\\site-packages\\sklearn\\model_selection\\_search.py\u001b[0m in \u001b[0;36mfit\u001b[1;34m(self, X, y, groups, **fit_params)\u001b[0m\n\u001b[0;32m    889\u001b[0m                 \u001b[1;32mreturn\u001b[0m \u001b[0mresults\u001b[0m\u001b[1;33m\u001b[0m\u001b[1;33m\u001b[0m\u001b[0m\n\u001b[0;32m    890\u001b[0m \u001b[1;33m\u001b[0m\u001b[0m\n\u001b[1;32m--> 891\u001b[1;33m             \u001b[0mself\u001b[0m\u001b[1;33m.\u001b[0m\u001b[0m_run_search\u001b[0m\u001b[1;33m(\u001b[0m\u001b[0mevaluate_candidates\u001b[0m\u001b[1;33m)\u001b[0m\u001b[1;33m\u001b[0m\u001b[1;33m\u001b[0m\u001b[0m\n\u001b[0m\u001b[0;32m    892\u001b[0m \u001b[1;33m\u001b[0m\u001b[0m\n\u001b[0;32m    893\u001b[0m             \u001b[1;31m# multimetric is determined here because in the case of a callable\u001b[0m\u001b[1;33m\u001b[0m\u001b[1;33m\u001b[0m\u001b[0m\n",
      "\u001b[1;32m~\\anaconda3\\lib\\site-packages\\sklearn\\model_selection\\_search.py\u001b[0m in \u001b[0;36m_run_search\u001b[1;34m(self, evaluate_candidates)\u001b[0m\n\u001b[0;32m   1390\u001b[0m     \u001b[1;32mdef\u001b[0m \u001b[0m_run_search\u001b[0m\u001b[1;33m(\u001b[0m\u001b[0mself\u001b[0m\u001b[1;33m,\u001b[0m \u001b[0mevaluate_candidates\u001b[0m\u001b[1;33m)\u001b[0m\u001b[1;33m:\u001b[0m\u001b[1;33m\u001b[0m\u001b[1;33m\u001b[0m\u001b[0m\n\u001b[0;32m   1391\u001b[0m         \u001b[1;34m\"\"\"Search all candidates in param_grid\"\"\"\u001b[0m\u001b[1;33m\u001b[0m\u001b[1;33m\u001b[0m\u001b[0m\n\u001b[1;32m-> 1392\u001b[1;33m         \u001b[0mevaluate_candidates\u001b[0m\u001b[1;33m(\u001b[0m\u001b[0mParameterGrid\u001b[0m\u001b[1;33m(\u001b[0m\u001b[0mself\u001b[0m\u001b[1;33m.\u001b[0m\u001b[0mparam_grid\u001b[0m\u001b[1;33m)\u001b[0m\u001b[1;33m)\u001b[0m\u001b[1;33m\u001b[0m\u001b[1;33m\u001b[0m\u001b[0m\n\u001b[0m\u001b[0;32m   1393\u001b[0m \u001b[1;33m\u001b[0m\u001b[0m\n\u001b[0;32m   1394\u001b[0m \u001b[1;33m\u001b[0m\u001b[0m\n",
      "\u001b[1;32m~\\anaconda3\\lib\\site-packages\\sklearn\\model_selection\\_search.py\u001b[0m in \u001b[0;36mevaluate_candidates\u001b[1;34m(candidate_params, cv, more_results)\u001b[0m\n\u001b[0;32m    836\u001b[0m                     )\n\u001b[0;32m    837\u001b[0m \u001b[1;33m\u001b[0m\u001b[0m\n\u001b[1;32m--> 838\u001b[1;33m                 out = parallel(\n\u001b[0m\u001b[0;32m    839\u001b[0m                     delayed(_fit_and_score)(\n\u001b[0;32m    840\u001b[0m                         \u001b[0mclone\u001b[0m\u001b[1;33m(\u001b[0m\u001b[0mbase_estimator\u001b[0m\u001b[1;33m)\u001b[0m\u001b[1;33m,\u001b[0m\u001b[1;33m\u001b[0m\u001b[1;33m\u001b[0m\u001b[0m\n",
      "\u001b[1;32m~\\anaconda3\\lib\\site-packages\\joblib\\parallel.py\u001b[0m in \u001b[0;36m__call__\u001b[1;34m(self, iterable)\u001b[0m\n\u001b[0;32m   1044\u001b[0m                 \u001b[0mself\u001b[0m\u001b[1;33m.\u001b[0m\u001b[0m_iterating\u001b[0m \u001b[1;33m=\u001b[0m \u001b[0mself\u001b[0m\u001b[1;33m.\u001b[0m\u001b[0m_original_iterator\u001b[0m \u001b[1;32mis\u001b[0m \u001b[1;32mnot\u001b[0m \u001b[1;32mNone\u001b[0m\u001b[1;33m\u001b[0m\u001b[1;33m\u001b[0m\u001b[0m\n\u001b[0;32m   1045\u001b[0m \u001b[1;33m\u001b[0m\u001b[0m\n\u001b[1;32m-> 1046\u001b[1;33m             \u001b[1;32mwhile\u001b[0m \u001b[0mself\u001b[0m\u001b[1;33m.\u001b[0m\u001b[0mdispatch_one_batch\u001b[0m\u001b[1;33m(\u001b[0m\u001b[0miterator\u001b[0m\u001b[1;33m)\u001b[0m\u001b[1;33m:\u001b[0m\u001b[1;33m\u001b[0m\u001b[1;33m\u001b[0m\u001b[0m\n\u001b[0m\u001b[0;32m   1047\u001b[0m                 \u001b[1;32mpass\u001b[0m\u001b[1;33m\u001b[0m\u001b[1;33m\u001b[0m\u001b[0m\n\u001b[0;32m   1048\u001b[0m \u001b[1;33m\u001b[0m\u001b[0m\n",
      "\u001b[1;32m~\\anaconda3\\lib\\site-packages\\joblib\\parallel.py\u001b[0m in \u001b[0;36mdispatch_one_batch\u001b[1;34m(self, iterator)\u001b[0m\n\u001b[0;32m    859\u001b[0m                 \u001b[1;32mreturn\u001b[0m \u001b[1;32mFalse\u001b[0m\u001b[1;33m\u001b[0m\u001b[1;33m\u001b[0m\u001b[0m\n\u001b[0;32m    860\u001b[0m             \u001b[1;32melse\u001b[0m\u001b[1;33m:\u001b[0m\u001b[1;33m\u001b[0m\u001b[1;33m\u001b[0m\u001b[0m\n\u001b[1;32m--> 861\u001b[1;33m                 \u001b[0mself\u001b[0m\u001b[1;33m.\u001b[0m\u001b[0m_dispatch\u001b[0m\u001b[1;33m(\u001b[0m\u001b[0mtasks\u001b[0m\u001b[1;33m)\u001b[0m\u001b[1;33m\u001b[0m\u001b[1;33m\u001b[0m\u001b[0m\n\u001b[0m\u001b[0;32m    862\u001b[0m                 \u001b[1;32mreturn\u001b[0m \u001b[1;32mTrue\u001b[0m\u001b[1;33m\u001b[0m\u001b[1;33m\u001b[0m\u001b[0m\n\u001b[0;32m    863\u001b[0m \u001b[1;33m\u001b[0m\u001b[0m\n",
      "\u001b[1;32m~\\anaconda3\\lib\\site-packages\\joblib\\parallel.py\u001b[0m in \u001b[0;36m_dispatch\u001b[1;34m(self, batch)\u001b[0m\n\u001b[0;32m    777\u001b[0m         \u001b[1;32mwith\u001b[0m \u001b[0mself\u001b[0m\u001b[1;33m.\u001b[0m\u001b[0m_lock\u001b[0m\u001b[1;33m:\u001b[0m\u001b[1;33m\u001b[0m\u001b[1;33m\u001b[0m\u001b[0m\n\u001b[0;32m    778\u001b[0m             \u001b[0mjob_idx\u001b[0m \u001b[1;33m=\u001b[0m \u001b[0mlen\u001b[0m\u001b[1;33m(\u001b[0m\u001b[0mself\u001b[0m\u001b[1;33m.\u001b[0m\u001b[0m_jobs\u001b[0m\u001b[1;33m)\u001b[0m\u001b[1;33m\u001b[0m\u001b[1;33m\u001b[0m\u001b[0m\n\u001b[1;32m--> 779\u001b[1;33m             \u001b[0mjob\u001b[0m \u001b[1;33m=\u001b[0m \u001b[0mself\u001b[0m\u001b[1;33m.\u001b[0m\u001b[0m_backend\u001b[0m\u001b[1;33m.\u001b[0m\u001b[0mapply_async\u001b[0m\u001b[1;33m(\u001b[0m\u001b[0mbatch\u001b[0m\u001b[1;33m,\u001b[0m \u001b[0mcallback\u001b[0m\u001b[1;33m=\u001b[0m\u001b[0mcb\u001b[0m\u001b[1;33m)\u001b[0m\u001b[1;33m\u001b[0m\u001b[1;33m\u001b[0m\u001b[0m\n\u001b[0m\u001b[0;32m    780\u001b[0m             \u001b[1;31m# A job can complete so quickly than its callback is\u001b[0m\u001b[1;33m\u001b[0m\u001b[1;33m\u001b[0m\u001b[0m\n\u001b[0;32m    781\u001b[0m             \u001b[1;31m# called before we get here, causing self._jobs to\u001b[0m\u001b[1;33m\u001b[0m\u001b[1;33m\u001b[0m\u001b[0m\n",
      "\u001b[1;32m~\\anaconda3\\lib\\site-packages\\joblib\\_parallel_backends.py\u001b[0m in \u001b[0;36mapply_async\u001b[1;34m(self, func, callback)\u001b[0m\n\u001b[0;32m    206\u001b[0m     \u001b[1;32mdef\u001b[0m \u001b[0mapply_async\u001b[0m\u001b[1;33m(\u001b[0m\u001b[0mself\u001b[0m\u001b[1;33m,\u001b[0m \u001b[0mfunc\u001b[0m\u001b[1;33m,\u001b[0m \u001b[0mcallback\u001b[0m\u001b[1;33m=\u001b[0m\u001b[1;32mNone\u001b[0m\u001b[1;33m)\u001b[0m\u001b[1;33m:\u001b[0m\u001b[1;33m\u001b[0m\u001b[1;33m\u001b[0m\u001b[0m\n\u001b[0;32m    207\u001b[0m         \u001b[1;34m\"\"\"Schedule a func to be run\"\"\"\u001b[0m\u001b[1;33m\u001b[0m\u001b[1;33m\u001b[0m\u001b[0m\n\u001b[1;32m--> 208\u001b[1;33m         \u001b[0mresult\u001b[0m \u001b[1;33m=\u001b[0m \u001b[0mImmediateResult\u001b[0m\u001b[1;33m(\u001b[0m\u001b[0mfunc\u001b[0m\u001b[1;33m)\u001b[0m\u001b[1;33m\u001b[0m\u001b[1;33m\u001b[0m\u001b[0m\n\u001b[0m\u001b[0;32m    209\u001b[0m         \u001b[1;32mif\u001b[0m \u001b[0mcallback\u001b[0m\u001b[1;33m:\u001b[0m\u001b[1;33m\u001b[0m\u001b[1;33m\u001b[0m\u001b[0m\n\u001b[0;32m    210\u001b[0m             \u001b[0mcallback\u001b[0m\u001b[1;33m(\u001b[0m\u001b[0mresult\u001b[0m\u001b[1;33m)\u001b[0m\u001b[1;33m\u001b[0m\u001b[1;33m\u001b[0m\u001b[0m\n",
      "\u001b[1;32m~\\anaconda3\\lib\\site-packages\\joblib\\_parallel_backends.py\u001b[0m in \u001b[0;36m__init__\u001b[1;34m(self, batch)\u001b[0m\n\u001b[0;32m    570\u001b[0m         \u001b[1;31m# Don't delay the application, to avoid keeping the input\u001b[0m\u001b[1;33m\u001b[0m\u001b[1;33m\u001b[0m\u001b[0m\n\u001b[0;32m    571\u001b[0m         \u001b[1;31m# arguments in memory\u001b[0m\u001b[1;33m\u001b[0m\u001b[1;33m\u001b[0m\u001b[0m\n\u001b[1;32m--> 572\u001b[1;33m         \u001b[0mself\u001b[0m\u001b[1;33m.\u001b[0m\u001b[0mresults\u001b[0m \u001b[1;33m=\u001b[0m \u001b[0mbatch\u001b[0m\u001b[1;33m(\u001b[0m\u001b[1;33m)\u001b[0m\u001b[1;33m\u001b[0m\u001b[1;33m\u001b[0m\u001b[0m\n\u001b[0m\u001b[0;32m    573\u001b[0m \u001b[1;33m\u001b[0m\u001b[0m\n\u001b[0;32m    574\u001b[0m     \u001b[1;32mdef\u001b[0m \u001b[0mget\u001b[0m\u001b[1;33m(\u001b[0m\u001b[0mself\u001b[0m\u001b[1;33m)\u001b[0m\u001b[1;33m:\u001b[0m\u001b[1;33m\u001b[0m\u001b[1;33m\u001b[0m\u001b[0m\n",
      "\u001b[1;32m~\\anaconda3\\lib\\site-packages\\joblib\\parallel.py\u001b[0m in \u001b[0;36m__call__\u001b[1;34m(self)\u001b[0m\n\u001b[0;32m    260\u001b[0m         \u001b[1;31m# change the default number of processes to -1\u001b[0m\u001b[1;33m\u001b[0m\u001b[1;33m\u001b[0m\u001b[0m\n\u001b[0;32m    261\u001b[0m         \u001b[1;32mwith\u001b[0m \u001b[0mparallel_backend\u001b[0m\u001b[1;33m(\u001b[0m\u001b[0mself\u001b[0m\u001b[1;33m.\u001b[0m\u001b[0m_backend\u001b[0m\u001b[1;33m,\u001b[0m \u001b[0mn_jobs\u001b[0m\u001b[1;33m=\u001b[0m\u001b[0mself\u001b[0m\u001b[1;33m.\u001b[0m\u001b[0m_n_jobs\u001b[0m\u001b[1;33m)\u001b[0m\u001b[1;33m:\u001b[0m\u001b[1;33m\u001b[0m\u001b[1;33m\u001b[0m\u001b[0m\n\u001b[1;32m--> 262\u001b[1;33m             return [func(*args, **kwargs)\n\u001b[0m\u001b[0;32m    263\u001b[0m                     for func, args, kwargs in self.items]\n\u001b[0;32m    264\u001b[0m \u001b[1;33m\u001b[0m\u001b[0m\n",
      "\u001b[1;32m~\\anaconda3\\lib\\site-packages\\joblib\\parallel.py\u001b[0m in \u001b[0;36m<listcomp>\u001b[1;34m(.0)\u001b[0m\n\u001b[0;32m    260\u001b[0m         \u001b[1;31m# change the default number of processes to -1\u001b[0m\u001b[1;33m\u001b[0m\u001b[1;33m\u001b[0m\u001b[0m\n\u001b[0;32m    261\u001b[0m         \u001b[1;32mwith\u001b[0m \u001b[0mparallel_backend\u001b[0m\u001b[1;33m(\u001b[0m\u001b[0mself\u001b[0m\u001b[1;33m.\u001b[0m\u001b[0m_backend\u001b[0m\u001b[1;33m,\u001b[0m \u001b[0mn_jobs\u001b[0m\u001b[1;33m=\u001b[0m\u001b[0mself\u001b[0m\u001b[1;33m.\u001b[0m\u001b[0m_n_jobs\u001b[0m\u001b[1;33m)\u001b[0m\u001b[1;33m:\u001b[0m\u001b[1;33m\u001b[0m\u001b[1;33m\u001b[0m\u001b[0m\n\u001b[1;32m--> 262\u001b[1;33m             return [func(*args, **kwargs)\n\u001b[0m\u001b[0;32m    263\u001b[0m                     for func, args, kwargs in self.items]\n\u001b[0;32m    264\u001b[0m \u001b[1;33m\u001b[0m\u001b[0m\n",
      "\u001b[1;32m~\\anaconda3\\lib\\site-packages\\sklearn\\utils\\fixes.py\u001b[0m in \u001b[0;36m__call__\u001b[1;34m(self, *args, **kwargs)\u001b[0m\n\u001b[0;32m    214\u001b[0m     \u001b[1;32mdef\u001b[0m \u001b[0m__call__\u001b[0m\u001b[1;33m(\u001b[0m\u001b[0mself\u001b[0m\u001b[1;33m,\u001b[0m \u001b[1;33m*\u001b[0m\u001b[0margs\u001b[0m\u001b[1;33m,\u001b[0m \u001b[1;33m**\u001b[0m\u001b[0mkwargs\u001b[0m\u001b[1;33m)\u001b[0m\u001b[1;33m:\u001b[0m\u001b[1;33m\u001b[0m\u001b[1;33m\u001b[0m\u001b[0m\n\u001b[0;32m    215\u001b[0m         \u001b[1;32mwith\u001b[0m \u001b[0mconfig_context\u001b[0m\u001b[1;33m(\u001b[0m\u001b[1;33m**\u001b[0m\u001b[0mself\u001b[0m\u001b[1;33m.\u001b[0m\u001b[0mconfig\u001b[0m\u001b[1;33m)\u001b[0m\u001b[1;33m:\u001b[0m\u001b[1;33m\u001b[0m\u001b[1;33m\u001b[0m\u001b[0m\n\u001b[1;32m--> 216\u001b[1;33m             \u001b[1;32mreturn\u001b[0m \u001b[0mself\u001b[0m\u001b[1;33m.\u001b[0m\u001b[0mfunction\u001b[0m\u001b[1;33m(\u001b[0m\u001b[1;33m*\u001b[0m\u001b[0margs\u001b[0m\u001b[1;33m,\u001b[0m \u001b[1;33m**\u001b[0m\u001b[0mkwargs\u001b[0m\u001b[1;33m)\u001b[0m\u001b[1;33m\u001b[0m\u001b[1;33m\u001b[0m\u001b[0m\n\u001b[0m\u001b[0;32m    217\u001b[0m \u001b[1;33m\u001b[0m\u001b[0m\n\u001b[0;32m    218\u001b[0m \u001b[1;33m\u001b[0m\u001b[0m\n",
      "\u001b[1;32m~\\anaconda3\\lib\\site-packages\\sklearn\\model_selection\\_validation.py\u001b[0m in \u001b[0;36m_fit_and_score\u001b[1;34m(estimator, X, y, scorer, train, test, verbose, parameters, fit_params, return_train_score, return_parameters, return_n_test_samples, return_times, return_estimator, split_progress, candidate_progress, error_score)\u001b[0m\n\u001b[0;32m    678\u001b[0m             \u001b[0mestimator\u001b[0m\u001b[1;33m.\u001b[0m\u001b[0mfit\u001b[0m\u001b[1;33m(\u001b[0m\u001b[0mX_train\u001b[0m\u001b[1;33m,\u001b[0m \u001b[1;33m**\u001b[0m\u001b[0mfit_params\u001b[0m\u001b[1;33m)\u001b[0m\u001b[1;33m\u001b[0m\u001b[1;33m\u001b[0m\u001b[0m\n\u001b[0;32m    679\u001b[0m         \u001b[1;32melse\u001b[0m\u001b[1;33m:\u001b[0m\u001b[1;33m\u001b[0m\u001b[1;33m\u001b[0m\u001b[0m\n\u001b[1;32m--> 680\u001b[1;33m             \u001b[0mestimator\u001b[0m\u001b[1;33m.\u001b[0m\u001b[0mfit\u001b[0m\u001b[1;33m(\u001b[0m\u001b[0mX_train\u001b[0m\u001b[1;33m,\u001b[0m \u001b[0my_train\u001b[0m\u001b[1;33m,\u001b[0m \u001b[1;33m**\u001b[0m\u001b[0mfit_params\u001b[0m\u001b[1;33m)\u001b[0m\u001b[1;33m\u001b[0m\u001b[1;33m\u001b[0m\u001b[0m\n\u001b[0m\u001b[0;32m    681\u001b[0m \u001b[1;33m\u001b[0m\u001b[0m\n\u001b[0;32m    682\u001b[0m     \u001b[1;32mexcept\u001b[0m \u001b[0mException\u001b[0m\u001b[1;33m:\u001b[0m\u001b[1;33m\u001b[0m\u001b[1;33m\u001b[0m\u001b[0m\n",
      "\u001b[1;32m~\\anaconda3\\lib\\site-packages\\sklearn\\ensemble\\_forest.py\u001b[0m in \u001b[0;36mfit\u001b[1;34m(self, X, y, sample_weight)\u001b[0m\n\u001b[0;32m    448\u001b[0m             \u001b[1;31m# parallel_backend contexts set at a higher level,\u001b[0m\u001b[1;33m\u001b[0m\u001b[1;33m\u001b[0m\u001b[0m\n\u001b[0;32m    449\u001b[0m             \u001b[1;31m# since correctness does not rely on using threads.\u001b[0m\u001b[1;33m\u001b[0m\u001b[1;33m\u001b[0m\u001b[0m\n\u001b[1;32m--> 450\u001b[1;33m             trees = Parallel(\n\u001b[0m\u001b[0;32m    451\u001b[0m                 \u001b[0mn_jobs\u001b[0m\u001b[1;33m=\u001b[0m\u001b[0mself\u001b[0m\u001b[1;33m.\u001b[0m\u001b[0mn_jobs\u001b[0m\u001b[1;33m,\u001b[0m\u001b[1;33m\u001b[0m\u001b[1;33m\u001b[0m\u001b[0m\n\u001b[0;32m    452\u001b[0m                 \u001b[0mverbose\u001b[0m\u001b[1;33m=\u001b[0m\u001b[0mself\u001b[0m\u001b[1;33m.\u001b[0m\u001b[0mverbose\u001b[0m\u001b[1;33m,\u001b[0m\u001b[1;33m\u001b[0m\u001b[1;33m\u001b[0m\u001b[0m\n",
      "\u001b[1;32m~\\anaconda3\\lib\\site-packages\\joblib\\parallel.py\u001b[0m in \u001b[0;36m__call__\u001b[1;34m(self, iterable)\u001b[0m\n\u001b[0;32m   1044\u001b[0m                 \u001b[0mself\u001b[0m\u001b[1;33m.\u001b[0m\u001b[0m_iterating\u001b[0m \u001b[1;33m=\u001b[0m \u001b[0mself\u001b[0m\u001b[1;33m.\u001b[0m\u001b[0m_original_iterator\u001b[0m \u001b[1;32mis\u001b[0m \u001b[1;32mnot\u001b[0m \u001b[1;32mNone\u001b[0m\u001b[1;33m\u001b[0m\u001b[1;33m\u001b[0m\u001b[0m\n\u001b[0;32m   1045\u001b[0m \u001b[1;33m\u001b[0m\u001b[0m\n\u001b[1;32m-> 1046\u001b[1;33m             \u001b[1;32mwhile\u001b[0m \u001b[0mself\u001b[0m\u001b[1;33m.\u001b[0m\u001b[0mdispatch_one_batch\u001b[0m\u001b[1;33m(\u001b[0m\u001b[0miterator\u001b[0m\u001b[1;33m)\u001b[0m\u001b[1;33m:\u001b[0m\u001b[1;33m\u001b[0m\u001b[1;33m\u001b[0m\u001b[0m\n\u001b[0m\u001b[0;32m   1047\u001b[0m                 \u001b[1;32mpass\u001b[0m\u001b[1;33m\u001b[0m\u001b[1;33m\u001b[0m\u001b[0m\n\u001b[0;32m   1048\u001b[0m \u001b[1;33m\u001b[0m\u001b[0m\n",
      "\u001b[1;32m~\\anaconda3\\lib\\site-packages\\joblib\\parallel.py\u001b[0m in \u001b[0;36mdispatch_one_batch\u001b[1;34m(self, iterator)\u001b[0m\n\u001b[0;32m    859\u001b[0m                 \u001b[1;32mreturn\u001b[0m \u001b[1;32mFalse\u001b[0m\u001b[1;33m\u001b[0m\u001b[1;33m\u001b[0m\u001b[0m\n\u001b[0;32m    860\u001b[0m             \u001b[1;32melse\u001b[0m\u001b[1;33m:\u001b[0m\u001b[1;33m\u001b[0m\u001b[1;33m\u001b[0m\u001b[0m\n\u001b[1;32m--> 861\u001b[1;33m                 \u001b[0mself\u001b[0m\u001b[1;33m.\u001b[0m\u001b[0m_dispatch\u001b[0m\u001b[1;33m(\u001b[0m\u001b[0mtasks\u001b[0m\u001b[1;33m)\u001b[0m\u001b[1;33m\u001b[0m\u001b[1;33m\u001b[0m\u001b[0m\n\u001b[0m\u001b[0;32m    862\u001b[0m                 \u001b[1;32mreturn\u001b[0m \u001b[1;32mTrue\u001b[0m\u001b[1;33m\u001b[0m\u001b[1;33m\u001b[0m\u001b[0m\n\u001b[0;32m    863\u001b[0m \u001b[1;33m\u001b[0m\u001b[0m\n",
      "\u001b[1;32m~\\anaconda3\\lib\\site-packages\\joblib\\parallel.py\u001b[0m in \u001b[0;36m_dispatch\u001b[1;34m(self, batch)\u001b[0m\n\u001b[0;32m    777\u001b[0m         \u001b[1;32mwith\u001b[0m \u001b[0mself\u001b[0m\u001b[1;33m.\u001b[0m\u001b[0m_lock\u001b[0m\u001b[1;33m:\u001b[0m\u001b[1;33m\u001b[0m\u001b[1;33m\u001b[0m\u001b[0m\n\u001b[0;32m    778\u001b[0m             \u001b[0mjob_idx\u001b[0m \u001b[1;33m=\u001b[0m \u001b[0mlen\u001b[0m\u001b[1;33m(\u001b[0m\u001b[0mself\u001b[0m\u001b[1;33m.\u001b[0m\u001b[0m_jobs\u001b[0m\u001b[1;33m)\u001b[0m\u001b[1;33m\u001b[0m\u001b[1;33m\u001b[0m\u001b[0m\n\u001b[1;32m--> 779\u001b[1;33m             \u001b[0mjob\u001b[0m \u001b[1;33m=\u001b[0m \u001b[0mself\u001b[0m\u001b[1;33m.\u001b[0m\u001b[0m_backend\u001b[0m\u001b[1;33m.\u001b[0m\u001b[0mapply_async\u001b[0m\u001b[1;33m(\u001b[0m\u001b[0mbatch\u001b[0m\u001b[1;33m,\u001b[0m \u001b[0mcallback\u001b[0m\u001b[1;33m=\u001b[0m\u001b[0mcb\u001b[0m\u001b[1;33m)\u001b[0m\u001b[1;33m\u001b[0m\u001b[1;33m\u001b[0m\u001b[0m\n\u001b[0m\u001b[0;32m    780\u001b[0m             \u001b[1;31m# A job can complete so quickly than its callback is\u001b[0m\u001b[1;33m\u001b[0m\u001b[1;33m\u001b[0m\u001b[0m\n\u001b[0;32m    781\u001b[0m             \u001b[1;31m# called before we get here, causing self._jobs to\u001b[0m\u001b[1;33m\u001b[0m\u001b[1;33m\u001b[0m\u001b[0m\n",
      "\u001b[1;32m~\\anaconda3\\lib\\site-packages\\joblib\\_parallel_backends.py\u001b[0m in \u001b[0;36mapply_async\u001b[1;34m(self, func, callback)\u001b[0m\n\u001b[0;32m    206\u001b[0m     \u001b[1;32mdef\u001b[0m \u001b[0mapply_async\u001b[0m\u001b[1;33m(\u001b[0m\u001b[0mself\u001b[0m\u001b[1;33m,\u001b[0m \u001b[0mfunc\u001b[0m\u001b[1;33m,\u001b[0m \u001b[0mcallback\u001b[0m\u001b[1;33m=\u001b[0m\u001b[1;32mNone\u001b[0m\u001b[1;33m)\u001b[0m\u001b[1;33m:\u001b[0m\u001b[1;33m\u001b[0m\u001b[1;33m\u001b[0m\u001b[0m\n\u001b[0;32m    207\u001b[0m         \u001b[1;34m\"\"\"Schedule a func to be run\"\"\"\u001b[0m\u001b[1;33m\u001b[0m\u001b[1;33m\u001b[0m\u001b[0m\n\u001b[1;32m--> 208\u001b[1;33m         \u001b[0mresult\u001b[0m \u001b[1;33m=\u001b[0m \u001b[0mImmediateResult\u001b[0m\u001b[1;33m(\u001b[0m\u001b[0mfunc\u001b[0m\u001b[1;33m)\u001b[0m\u001b[1;33m\u001b[0m\u001b[1;33m\u001b[0m\u001b[0m\n\u001b[0m\u001b[0;32m    209\u001b[0m         \u001b[1;32mif\u001b[0m \u001b[0mcallback\u001b[0m\u001b[1;33m:\u001b[0m\u001b[1;33m\u001b[0m\u001b[1;33m\u001b[0m\u001b[0m\n\u001b[0;32m    210\u001b[0m             \u001b[0mcallback\u001b[0m\u001b[1;33m(\u001b[0m\u001b[0mresult\u001b[0m\u001b[1;33m)\u001b[0m\u001b[1;33m\u001b[0m\u001b[1;33m\u001b[0m\u001b[0m\n",
      "\u001b[1;32m~\\anaconda3\\lib\\site-packages\\joblib\\_parallel_backends.py\u001b[0m in \u001b[0;36m__init__\u001b[1;34m(self, batch)\u001b[0m\n\u001b[0;32m    570\u001b[0m         \u001b[1;31m# Don't delay the application, to avoid keeping the input\u001b[0m\u001b[1;33m\u001b[0m\u001b[1;33m\u001b[0m\u001b[0m\n\u001b[0;32m    571\u001b[0m         \u001b[1;31m# arguments in memory\u001b[0m\u001b[1;33m\u001b[0m\u001b[1;33m\u001b[0m\u001b[0m\n\u001b[1;32m--> 572\u001b[1;33m         \u001b[0mself\u001b[0m\u001b[1;33m.\u001b[0m\u001b[0mresults\u001b[0m \u001b[1;33m=\u001b[0m \u001b[0mbatch\u001b[0m\u001b[1;33m(\u001b[0m\u001b[1;33m)\u001b[0m\u001b[1;33m\u001b[0m\u001b[1;33m\u001b[0m\u001b[0m\n\u001b[0m\u001b[0;32m    573\u001b[0m \u001b[1;33m\u001b[0m\u001b[0m\n\u001b[0;32m    574\u001b[0m     \u001b[1;32mdef\u001b[0m \u001b[0mget\u001b[0m\u001b[1;33m(\u001b[0m\u001b[0mself\u001b[0m\u001b[1;33m)\u001b[0m\u001b[1;33m:\u001b[0m\u001b[1;33m\u001b[0m\u001b[1;33m\u001b[0m\u001b[0m\n",
      "\u001b[1;32m~\\anaconda3\\lib\\site-packages\\joblib\\parallel.py\u001b[0m in \u001b[0;36m__call__\u001b[1;34m(self)\u001b[0m\n\u001b[0;32m    260\u001b[0m         \u001b[1;31m# change the default number of processes to -1\u001b[0m\u001b[1;33m\u001b[0m\u001b[1;33m\u001b[0m\u001b[0m\n\u001b[0;32m    261\u001b[0m         \u001b[1;32mwith\u001b[0m \u001b[0mparallel_backend\u001b[0m\u001b[1;33m(\u001b[0m\u001b[0mself\u001b[0m\u001b[1;33m.\u001b[0m\u001b[0m_backend\u001b[0m\u001b[1;33m,\u001b[0m \u001b[0mn_jobs\u001b[0m\u001b[1;33m=\u001b[0m\u001b[0mself\u001b[0m\u001b[1;33m.\u001b[0m\u001b[0m_n_jobs\u001b[0m\u001b[1;33m)\u001b[0m\u001b[1;33m:\u001b[0m\u001b[1;33m\u001b[0m\u001b[1;33m\u001b[0m\u001b[0m\n\u001b[1;32m--> 262\u001b[1;33m             return [func(*args, **kwargs)\n\u001b[0m\u001b[0;32m    263\u001b[0m                     for func, args, kwargs in self.items]\n\u001b[0;32m    264\u001b[0m \u001b[1;33m\u001b[0m\u001b[0m\n",
      "\u001b[1;32m~\\anaconda3\\lib\\site-packages\\joblib\\parallel.py\u001b[0m in \u001b[0;36m<listcomp>\u001b[1;34m(.0)\u001b[0m\n\u001b[0;32m    260\u001b[0m         \u001b[1;31m# change the default number of processes to -1\u001b[0m\u001b[1;33m\u001b[0m\u001b[1;33m\u001b[0m\u001b[0m\n\u001b[0;32m    261\u001b[0m         \u001b[1;32mwith\u001b[0m \u001b[0mparallel_backend\u001b[0m\u001b[1;33m(\u001b[0m\u001b[0mself\u001b[0m\u001b[1;33m.\u001b[0m\u001b[0m_backend\u001b[0m\u001b[1;33m,\u001b[0m \u001b[0mn_jobs\u001b[0m\u001b[1;33m=\u001b[0m\u001b[0mself\u001b[0m\u001b[1;33m.\u001b[0m\u001b[0m_n_jobs\u001b[0m\u001b[1;33m)\u001b[0m\u001b[1;33m:\u001b[0m\u001b[1;33m\u001b[0m\u001b[1;33m\u001b[0m\u001b[0m\n\u001b[1;32m--> 262\u001b[1;33m             return [func(*args, **kwargs)\n\u001b[0m\u001b[0;32m    263\u001b[0m                     for func, args, kwargs in self.items]\n\u001b[0;32m    264\u001b[0m \u001b[1;33m\u001b[0m\u001b[0m\n",
      "\u001b[1;32m~\\anaconda3\\lib\\site-packages\\sklearn\\utils\\fixes.py\u001b[0m in \u001b[0;36m__call__\u001b[1;34m(self, *args, **kwargs)\u001b[0m\n\u001b[0;32m    214\u001b[0m     \u001b[1;32mdef\u001b[0m \u001b[0m__call__\u001b[0m\u001b[1;33m(\u001b[0m\u001b[0mself\u001b[0m\u001b[1;33m,\u001b[0m \u001b[1;33m*\u001b[0m\u001b[0margs\u001b[0m\u001b[1;33m,\u001b[0m \u001b[1;33m**\u001b[0m\u001b[0mkwargs\u001b[0m\u001b[1;33m)\u001b[0m\u001b[1;33m:\u001b[0m\u001b[1;33m\u001b[0m\u001b[1;33m\u001b[0m\u001b[0m\n\u001b[0;32m    215\u001b[0m         \u001b[1;32mwith\u001b[0m \u001b[0mconfig_context\u001b[0m\u001b[1;33m(\u001b[0m\u001b[1;33m**\u001b[0m\u001b[0mself\u001b[0m\u001b[1;33m.\u001b[0m\u001b[0mconfig\u001b[0m\u001b[1;33m)\u001b[0m\u001b[1;33m:\u001b[0m\u001b[1;33m\u001b[0m\u001b[1;33m\u001b[0m\u001b[0m\n\u001b[1;32m--> 216\u001b[1;33m             \u001b[1;32mreturn\u001b[0m \u001b[0mself\u001b[0m\u001b[1;33m.\u001b[0m\u001b[0mfunction\u001b[0m\u001b[1;33m(\u001b[0m\u001b[1;33m*\u001b[0m\u001b[0margs\u001b[0m\u001b[1;33m,\u001b[0m \u001b[1;33m**\u001b[0m\u001b[0mkwargs\u001b[0m\u001b[1;33m)\u001b[0m\u001b[1;33m\u001b[0m\u001b[1;33m\u001b[0m\u001b[0m\n\u001b[0m\u001b[0;32m    217\u001b[0m \u001b[1;33m\u001b[0m\u001b[0m\n\u001b[0;32m    218\u001b[0m \u001b[1;33m\u001b[0m\u001b[0m\n",
      "\u001b[1;32m~\\anaconda3\\lib\\site-packages\\sklearn\\ensemble\\_forest.py\u001b[0m in \u001b[0;36m_parallel_build_trees\u001b[1;34m(tree, forest, X, y, sample_weight, tree_idx, n_trees, verbose, class_weight, n_samples_bootstrap)\u001b[0m\n\u001b[0;32m    183\u001b[0m             \u001b[0mcurr_sample_weight\u001b[0m \u001b[1;33m*=\u001b[0m \u001b[0mcompute_sample_weight\u001b[0m\u001b[1;33m(\u001b[0m\u001b[1;34m\"balanced\"\u001b[0m\u001b[1;33m,\u001b[0m \u001b[0my\u001b[0m\u001b[1;33m,\u001b[0m \u001b[0mindices\u001b[0m\u001b[1;33m=\u001b[0m\u001b[0mindices\u001b[0m\u001b[1;33m)\u001b[0m\u001b[1;33m\u001b[0m\u001b[1;33m\u001b[0m\u001b[0m\n\u001b[0;32m    184\u001b[0m \u001b[1;33m\u001b[0m\u001b[0m\n\u001b[1;32m--> 185\u001b[1;33m         \u001b[0mtree\u001b[0m\u001b[1;33m.\u001b[0m\u001b[0mfit\u001b[0m\u001b[1;33m(\u001b[0m\u001b[0mX\u001b[0m\u001b[1;33m,\u001b[0m \u001b[0my\u001b[0m\u001b[1;33m,\u001b[0m \u001b[0msample_weight\u001b[0m\u001b[1;33m=\u001b[0m\u001b[0mcurr_sample_weight\u001b[0m\u001b[1;33m,\u001b[0m \u001b[0mcheck_input\u001b[0m\u001b[1;33m=\u001b[0m\u001b[1;32mFalse\u001b[0m\u001b[1;33m)\u001b[0m\u001b[1;33m\u001b[0m\u001b[1;33m\u001b[0m\u001b[0m\n\u001b[0m\u001b[0;32m    186\u001b[0m     \u001b[1;32melse\u001b[0m\u001b[1;33m:\u001b[0m\u001b[1;33m\u001b[0m\u001b[1;33m\u001b[0m\u001b[0m\n\u001b[0;32m    187\u001b[0m         \u001b[0mtree\u001b[0m\u001b[1;33m.\u001b[0m\u001b[0mfit\u001b[0m\u001b[1;33m(\u001b[0m\u001b[0mX\u001b[0m\u001b[1;33m,\u001b[0m \u001b[0my\u001b[0m\u001b[1;33m,\u001b[0m \u001b[0msample_weight\u001b[0m\u001b[1;33m=\u001b[0m\u001b[0msample_weight\u001b[0m\u001b[1;33m,\u001b[0m \u001b[0mcheck_input\u001b[0m\u001b[1;33m=\u001b[0m\u001b[1;32mFalse\u001b[0m\u001b[1;33m)\u001b[0m\u001b[1;33m\u001b[0m\u001b[1;33m\u001b[0m\u001b[0m\n",
      "\u001b[1;32m~\\anaconda3\\lib\\site-packages\\sklearn\\tree\\_classes.py\u001b[0m in \u001b[0;36mfit\u001b[1;34m(self, X, y, sample_weight, check_input, X_idx_sorted)\u001b[0m\n\u001b[0;32m    935\u001b[0m         \"\"\"\n\u001b[0;32m    936\u001b[0m \u001b[1;33m\u001b[0m\u001b[0m\n\u001b[1;32m--> 937\u001b[1;33m         super().fit(\n\u001b[0m\u001b[0;32m    938\u001b[0m             \u001b[0mX\u001b[0m\u001b[1;33m,\u001b[0m\u001b[1;33m\u001b[0m\u001b[1;33m\u001b[0m\u001b[0m\n\u001b[0;32m    939\u001b[0m             \u001b[0my\u001b[0m\u001b[1;33m,\u001b[0m\u001b[1;33m\u001b[0m\u001b[1;33m\u001b[0m\u001b[0m\n",
      "\u001b[1;32m~\\anaconda3\\lib\\site-packages\\sklearn\\tree\\_classes.py\u001b[0m in \u001b[0;36mfit\u001b[1;34m(self, X, y, sample_weight, check_input, X_idx_sorted)\u001b[0m\n\u001b[0;32m    418\u001b[0m             )\n\u001b[0;32m    419\u001b[0m \u001b[1;33m\u001b[0m\u001b[0m\n\u001b[1;32m--> 420\u001b[1;33m         \u001b[0mbuilder\u001b[0m\u001b[1;33m.\u001b[0m\u001b[0mbuild\u001b[0m\u001b[1;33m(\u001b[0m\u001b[0mself\u001b[0m\u001b[1;33m.\u001b[0m\u001b[0mtree_\u001b[0m\u001b[1;33m,\u001b[0m \u001b[0mX\u001b[0m\u001b[1;33m,\u001b[0m \u001b[0my\u001b[0m\u001b[1;33m,\u001b[0m \u001b[0msample_weight\u001b[0m\u001b[1;33m)\u001b[0m\u001b[1;33m\u001b[0m\u001b[1;33m\u001b[0m\u001b[0m\n\u001b[0m\u001b[0;32m    421\u001b[0m \u001b[1;33m\u001b[0m\u001b[0m\n\u001b[0;32m    422\u001b[0m         \u001b[1;32mif\u001b[0m \u001b[0mself\u001b[0m\u001b[1;33m.\u001b[0m\u001b[0mn_outputs_\u001b[0m \u001b[1;33m==\u001b[0m \u001b[1;36m1\u001b[0m \u001b[1;32mand\u001b[0m \u001b[0mis_classifier\u001b[0m\u001b[1;33m(\u001b[0m\u001b[0mself\u001b[0m\u001b[1;33m)\u001b[0m\u001b[1;33m:\u001b[0m\u001b[1;33m\u001b[0m\u001b[1;33m\u001b[0m\u001b[0m\n",
      "\u001b[1;31mKeyboardInterrupt\u001b[0m: "
     ]
    }
   ],
   "source": [
    "grid_search.fit(train[predictors], train[\"target\"])"
   ]
  },
  {
   "cell_type": "code",
   "execution_count": null,
   "id": "050f7ced-4ef0-4292-8b97-67dbde164fa7",
   "metadata": {},
   "outputs": [],
   "source": [
    "grid_search.best_params_"
   ]
  },
  {
   "cell_type": "code",
   "execution_count": null,
   "id": "88bcbfbc-8c58-4ebc-8457-19ad70130f7b",
   "metadata": {},
   "outputs": [],
   "source": [
    "grid_search.score(test[predictors],test['target'])"
   ]
  },
  {
   "cell_type": "code",
   "execution_count": null,
   "id": "f2106502-6ef7-4433-999e-47abbfd76718",
   "metadata": {},
   "outputs": [],
   "source": []
  },
  {
   "cell_type": "code",
   "execution_count": null,
   "id": "7b54ba0c-2f8b-4032-9c6b-8344533fbd77",
   "metadata": {},
   "outputs": [],
   "source": []
  },
  {
   "cell_type": "markdown",
   "id": "4a3a863c-b6e4-45dc-91ca-c152281515f5",
   "metadata": {},
   "source": [
    "## Logistic Regression"
   ]
  },
  {
   "cell_type": "code",
   "execution_count": 117,
   "id": "ce8dadb7-04de-4d88-804f-76c045cdfd6d",
   "metadata": {},
   "outputs": [],
   "source": [
    "from sklearn.linear_model import LogisticRegression"
   ]
  },
  {
   "cell_type": "code",
   "execution_count": 118,
   "id": "03c8118d-d6cf-4fd9-a851-24eeb2c979b7",
   "metadata": {},
   "outputs": [],
   "source": [
    "log= LogisticRegression()"
   ]
  },
  {
   "cell_type": "code",
   "execution_count": 119,
   "id": "50130224-f0df-49b0-8848-68695a5452f2",
   "metadata": {},
   "outputs": [
    {
     "data": {
      "text/plain": [
       "LogisticRegression()"
      ]
     },
     "execution_count": 119,
     "metadata": {},
     "output_type": "execute_result"
    }
   ],
   "source": [
    "log.fit(train[predictors], train[\"target\"])"
   ]
  },
  {
   "cell_type": "code",
   "execution_count": 121,
   "id": "e6405cb7-edbd-4951-9f4a-ed7b8ba60451",
   "metadata": {},
   "outputs": [],
   "source": [
    "preds = log.predict(test[predictors])"
   ]
  },
  {
   "cell_type": "code",
   "execution_count": 122,
   "id": "dc2f32c6-b0f1-44e0-b1cf-b91cffd1cbe1",
   "metadata": {},
   "outputs": [
    {
     "data": {
      "text/plain": [
       "0.5301857585139319"
      ]
     },
     "execution_count": 122,
     "metadata": {},
     "output_type": "execute_result"
    }
   ],
   "source": [
    "log.score(test[predictors],test['target'])"
   ]
  },
  {
   "cell_type": "code",
   "execution_count": 123,
   "id": "52289a30-659d-4bb9-94c7-b133f32e5622",
   "metadata": {},
   "outputs": [
    {
     "data": {
      "text/plain": [
       "0.5301857585139319"
      ]
     },
     "execution_count": 123,
     "metadata": {},
     "output_type": "execute_result"
    }
   ],
   "source": [
    "preds = log.predict(test[predictors])\n",
    "preds = pd.Series(preds, index=test.index)\n",
    "precision_score(test[\"target\"], preds)"
   ]
  },
  {
   "cell_type": "code",
   "execution_count": 80,
   "id": "e3973f6a-87db-4b01-9bda-5013f807a6df",
   "metadata": {},
   "outputs": [
    {
     "data": {
      "text/plain": [
       "date\n",
       "1998-12-31      0.327268\n",
       "1999-12-31      0.896656\n",
       "2000-12-31      1.097392\n",
       "2001-12-31      0.404746\n",
       "2002-12-31      0.397440\n",
       "2003-12-31      0.377804\n",
       "2004-12-31      1.041776\n",
       "2005-12-31      2.282653\n",
       "2006-12-31      2.795018\n",
       "2007-12-31      6.083524\n",
       "2008-12-31      5.934350\n",
       "2009-12-31      6.443061\n",
       "2010-12-31      9.908444\n",
       "2011-12-31     12.854460\n",
       "2012-12-31     21.466152\n",
       "2013-12-31     17.949526\n",
       "2014-12-31     26.779305\n",
       "2015-12-31     30.069082\n",
       "2016-12-31     27.524761\n",
       "2017-12-31     41.939430\n",
       "2018-12-31     55.802376\n",
       "2019-12-31     71.920578\n",
       "2020-12-31    135.068619\n",
       "2021-12-31    179.289444\n",
       "2022-12-31    180.959732\n",
       "2023-12-31    142.529999\n",
       "Freq: A-DEC, Name: Close, dtype: float64"
      ]
     },
     "execution_count": 80,
     "metadata": {},
     "output_type": "execute_result"
    }
   ],
   "source": [
    "data.resample(rule='A').max()['Close']"
   ]
  },
  {
   "cell_type": "markdown",
   "id": "a4734605-0806-443b-b5b6-23f1a22c700b",
   "metadata": {},
   "source": [
    "## Rolling Average"
   ]
  },
  {
   "cell_type": "code",
   "execution_count": 125,
   "id": "2eb8b78b-19e4-470e-adc6-7191c39f0865",
   "metadata": {},
   "outputs": [],
   "source": [
    "data['ma_3']=data['Close'].rolling(3).mean()"
   ]
  },
  {
   "cell_type": "code",
   "execution_count": 126,
   "id": "3ebc2845-ed14-4638-9570-05e8f70d1b22",
   "metadata": {},
   "outputs": [],
   "source": [
    "data['ma_5']=data['Close'].rolling(5).mean()"
   ]
  },
  {
   "cell_type": "code",
   "execution_count": 127,
   "id": "dffcd7b1-772e-4951-a607-7a163dc1d0e5",
   "metadata": {},
   "outputs": [],
   "source": [
    "data['ma_7']=data['Close'].rolling(7).mean()"
   ]
  },
  {
   "cell_type": "code",
   "execution_count": 128,
   "id": "725ce189-5a80-464b-ba96-d2c7413d83d6",
   "metadata": {},
   "outputs": [],
   "source": [
    "data['ma_30']=data['Close'].rolling(30).mean()"
   ]
  },
  {
   "cell_type": "code",
   "execution_count": 129,
   "id": "1c89ef38-9ffe-443e-93da-54f3ba674eeb",
   "metadata": {},
   "outputs": [],
   "source": [
    "data['ma_60']=data['Close'].rolling(60).mean()"
   ]
  },
  {
   "cell_type": "code",
   "execution_count": 130,
   "id": "ab69f240-48ce-43b1-a85d-c01a1f848bda",
   "metadata": {},
   "outputs": [],
   "source": [
    "data['ma_90']=data['Close'].rolling(90).mean()"
   ]
  },
  {
   "cell_type": "code",
   "execution_count": 131,
   "id": "65b7796e-ef17-481f-a804-2439b2d586fc",
   "metadata": {},
   "outputs": [],
   "source": [
    "data['ma_180']=data['Close'].rolling(180).mean()"
   ]
  },
  {
   "cell_type": "code",
   "execution_count": 132,
   "id": "fc2d09c0-cac3-4586-b1ce-2db1e1a5c497",
   "metadata": {},
   "outputs": [],
   "source": [
    "data['ma_240']=data['Close'].rolling(240).mean()"
   ]
  },
  {
   "cell_type": "code",
   "execution_count": 133,
   "id": "b43948f1-faac-40e5-8d46-798a3cb41fc2",
   "metadata": {},
   "outputs": [],
   "source": [
    "data['ma_360']=data['Close'].rolling(360).mean()"
   ]
  },
  {
   "cell_type": "code",
   "execution_count": 134,
   "id": "9ff3bb54-a27c-42e3-ba0c-3caa51793947",
   "metadata": {},
   "outputs": [
    {
     "data": {
      "text/html": [
       "<div>\n",
       "<style scoped>\n",
       "    .dataframe tbody tr th:only-of-type {\n",
       "        vertical-align: middle;\n",
       "    }\n",
       "\n",
       "    .dataframe tbody tr th {\n",
       "        vertical-align: top;\n",
       "    }\n",
       "\n",
       "    .dataframe thead th {\n",
       "        text-align: right;\n",
       "    }\n",
       "</style>\n",
       "<table border=\"1\" class=\"dataframe\">\n",
       "  <thead>\n",
       "    <tr style=\"text-align: right;\">\n",
       "      <th></th>\n",
       "      <th>Open</th>\n",
       "      <th>High</th>\n",
       "      <th>Low</th>\n",
       "      <th>Close</th>\n",
       "      <th>Volume</th>\n",
       "      <th>Dividends</th>\n",
       "      <th>Stock Splits</th>\n",
       "      <th>tomorrow</th>\n",
       "      <th>target</th>\n",
       "      <th>ma_3</th>\n",
       "      <th>ma_5</th>\n",
       "      <th>ma_7</th>\n",
       "      <th>ma_30</th>\n",
       "      <th>ma_60</th>\n",
       "      <th>ma_90</th>\n",
       "      <th>ma_180</th>\n",
       "      <th>ma_240</th>\n",
       "      <th>ma_360</th>\n",
       "    </tr>\n",
       "    <tr>\n",
       "      <th>date</th>\n",
       "      <th></th>\n",
       "      <th></th>\n",
       "      <th></th>\n",
       "      <th></th>\n",
       "      <th></th>\n",
       "      <th></th>\n",
       "      <th></th>\n",
       "      <th></th>\n",
       "      <th></th>\n",
       "      <th></th>\n",
       "      <th></th>\n",
       "      <th></th>\n",
       "      <th></th>\n",
       "      <th></th>\n",
       "      <th></th>\n",
       "      <th></th>\n",
       "      <th></th>\n",
       "      <th></th>\n",
       "    </tr>\n",
       "  </thead>\n",
       "  <tbody>\n",
       "    <tr>\n",
       "      <th>1998-01-26</th>\n",
       "      <td>0.147936</td>\n",
       "      <td>0.148888</td>\n",
       "      <td>0.143180</td>\n",
       "      <td>0.147936</td>\n",
       "      <td>146440000</td>\n",
       "      <td>0.0</td>\n",
       "      <td>0</td>\n",
       "      <td>0.145558</td>\n",
       "      <td>0</td>\n",
       "      <td>NaN</td>\n",
       "      <td>NaN</td>\n",
       "      <td>NaN</td>\n",
       "      <td>NaN</td>\n",
       "      <td>NaN</td>\n",
       "      <td>NaN</td>\n",
       "      <td>NaN</td>\n",
       "      <td>NaN</td>\n",
       "      <td>NaN</td>\n",
       "    </tr>\n",
       "    <tr>\n",
       "      <th>1998-01-27</th>\n",
       "      <td>0.146034</td>\n",
       "      <td>0.149839</td>\n",
       "      <td>0.144607</td>\n",
       "      <td>0.145558</td>\n",
       "      <td>112235200</td>\n",
       "      <td>0.0</td>\n",
       "      <td>0</td>\n",
       "      <td>0.146034</td>\n",
       "      <td>1</td>\n",
       "      <td>NaN</td>\n",
       "      <td>NaN</td>\n",
       "      <td>NaN</td>\n",
       "      <td>NaN</td>\n",
       "      <td>NaN</td>\n",
       "      <td>NaN</td>\n",
       "      <td>NaN</td>\n",
       "      <td>NaN</td>\n",
       "      <td>NaN</td>\n",
       "    </tr>\n",
       "    <tr>\n",
       "      <th>1998-01-28</th>\n",
       "      <td>0.146034</td>\n",
       "      <td>0.147461</td>\n",
       "      <td>0.141753</td>\n",
       "      <td>0.146034</td>\n",
       "      <td>151121600</td>\n",
       "      <td>0.0</td>\n",
       "      <td>0</td>\n",
       "      <td>0.140802</td>\n",
       "      <td>0</td>\n",
       "      <td>0.146509</td>\n",
       "      <td>NaN</td>\n",
       "      <td>NaN</td>\n",
       "      <td>NaN</td>\n",
       "      <td>NaN</td>\n",
       "      <td>NaN</td>\n",
       "      <td>NaN</td>\n",
       "      <td>NaN</td>\n",
       "      <td>NaN</td>\n",
       "    </tr>\n",
       "    <tr>\n",
       "      <th>1998-01-29</th>\n",
       "      <td>0.144131</td>\n",
       "      <td>0.145558</td>\n",
       "      <td>0.140802</td>\n",
       "      <td>0.140802</td>\n",
       "      <td>211881600</td>\n",
       "      <td>0.0</td>\n",
       "      <td>0</td>\n",
       "      <td>0.139374</td>\n",
       "      <td>0</td>\n",
       "      <td>0.144131</td>\n",
       "      <td>NaN</td>\n",
       "      <td>NaN</td>\n",
       "      <td>NaN</td>\n",
       "      <td>NaN</td>\n",
       "      <td>NaN</td>\n",
       "      <td>NaN</td>\n",
       "      <td>NaN</td>\n",
       "      <td>NaN</td>\n",
       "    </tr>\n",
       "    <tr>\n",
       "      <th>1998-01-30</th>\n",
       "      <td>0.139374</td>\n",
       "      <td>0.143655</td>\n",
       "      <td>0.138898</td>\n",
       "      <td>0.139374</td>\n",
       "      <td>162444800</td>\n",
       "      <td>0.0</td>\n",
       "      <td>0</td>\n",
       "      <td>0.134617</td>\n",
       "      <td>0</td>\n",
       "      <td>0.142070</td>\n",
       "      <td>0.143941</td>\n",
       "      <td>NaN</td>\n",
       "      <td>NaN</td>\n",
       "      <td>NaN</td>\n",
       "      <td>NaN</td>\n",
       "      <td>NaN</td>\n",
       "      <td>NaN</td>\n",
       "      <td>NaN</td>\n",
       "    </tr>\n",
       "    <tr>\n",
       "      <th>...</th>\n",
       "      <td>...</td>\n",
       "      <td>...</td>\n",
       "      <td>...</td>\n",
       "      <td>...</td>\n",
       "      <td>...</td>\n",
       "      <td>...</td>\n",
       "      <td>...</td>\n",
       "      <td>...</td>\n",
       "      <td>...</td>\n",
       "      <td>...</td>\n",
       "      <td>...</td>\n",
       "      <td>...</td>\n",
       "      <td>...</td>\n",
       "      <td>...</td>\n",
       "      <td>...</td>\n",
       "      <td>...</td>\n",
       "      <td>...</td>\n",
       "      <td>...</td>\n",
       "    </tr>\n",
       "    <tr>\n",
       "      <th>2023-01-19</th>\n",
       "      <td>134.080002</td>\n",
       "      <td>136.250000</td>\n",
       "      <td>133.770004</td>\n",
       "      <td>135.270004</td>\n",
       "      <td>58280400</td>\n",
       "      <td>0.0</td>\n",
       "      <td>0</td>\n",
       "      <td>137.869995</td>\n",
       "      <td>1</td>\n",
       "      <td>135.473338</td>\n",
       "      <td>134.918002</td>\n",
       "      <td>134.115716</td>\n",
       "      <td>134.256333</td>\n",
       "      <td>140.599191</td>\n",
       "      <td>142.731844</td>\n",
       "      <td>147.066833</td>\n",
       "      <td>151.778893</td>\n",
       "      <td>153.460978</td>\n",
       "    </tr>\n",
       "    <tr>\n",
       "      <th>2023-01-20</th>\n",
       "      <td>135.279999</td>\n",
       "      <td>138.020004</td>\n",
       "      <td>134.220001</td>\n",
       "      <td>137.869995</td>\n",
       "      <td>79972200</td>\n",
       "      <td>0.0</td>\n",
       "      <td>0</td>\n",
       "      <td>141.110001</td>\n",
       "      <td>1</td>\n",
       "      <td>136.116669</td>\n",
       "      <td>135.810001</td>\n",
       "      <td>135.135716</td>\n",
       "      <td>134.088333</td>\n",
       "      <td>140.410316</td>\n",
       "      <td>142.450851</td>\n",
       "      <td>146.950768</td>\n",
       "      <td>151.638295</td>\n",
       "      <td>153.427203</td>\n",
       "    </tr>\n",
       "    <tr>\n",
       "      <th>2023-01-23</th>\n",
       "      <td>138.119995</td>\n",
       "      <td>143.320007</td>\n",
       "      <td>137.899994</td>\n",
       "      <td>141.110001</td>\n",
       "      <td>81760300</td>\n",
       "      <td>0.0</td>\n",
       "      <td>0</td>\n",
       "      <td>142.529999</td>\n",
       "      <td>1</td>\n",
       "      <td>138.083333</td>\n",
       "      <td>137.080002</td>\n",
       "      <td>136.224287</td>\n",
       "      <td>134.093999</td>\n",
       "      <td>140.227354</td>\n",
       "      <td>142.312237</td>\n",
       "      <td>146.816533</td>\n",
       "      <td>151.514224</td>\n",
       "      <td>153.404993</td>\n",
       "    </tr>\n",
       "    <tr>\n",
       "      <th>2023-01-24</th>\n",
       "      <td>140.309998</td>\n",
       "      <td>143.160004</td>\n",
       "      <td>140.300003</td>\n",
       "      <td>142.529999</td>\n",
       "      <td>66435100</td>\n",
       "      <td>0.0</td>\n",
       "      <td>0</td>\n",
       "      <td>141.860001</td>\n",
       "      <td>0</td>\n",
       "      <td>140.503332</td>\n",
       "      <td>138.398001</td>\n",
       "      <td>137.527143</td>\n",
       "      <td>134.090000</td>\n",
       "      <td>140.117810</td>\n",
       "      <td>142.173095</td>\n",
       "      <td>146.741344</td>\n",
       "      <td>151.382922</td>\n",
       "      <td>153.397289</td>\n",
       "    </tr>\n",
       "    <tr>\n",
       "      <th>2023-01-25</th>\n",
       "      <td>140.889999</td>\n",
       "      <td>142.429993</td>\n",
       "      <td>138.809998</td>\n",
       "      <td>141.860001</td>\n",
       "      <td>65652500</td>\n",
       "      <td>0.0</td>\n",
       "      <td>0</td>\n",
       "      <td>NaN</td>\n",
       "      <td>0</td>\n",
       "      <td>141.833333</td>\n",
       "      <td>139.728000</td>\n",
       "      <td>138.541430</td>\n",
       "      <td>134.080000</td>\n",
       "      <td>140.072807</td>\n",
       "      <td>142.059122</td>\n",
       "      <td>146.658334</td>\n",
       "      <td>151.242813</td>\n",
       "      <td>153.386786</td>\n",
       "    </tr>\n",
       "  </tbody>\n",
       "</table>\n",
       "<p>6292 rows × 18 columns</p>\n",
       "</div>"
      ],
      "text/plain": [
       "                  Open        High         Low       Close     Volume  \\\n",
       "date                                                                    \n",
       "1998-01-26    0.147936    0.148888    0.143180    0.147936  146440000   \n",
       "1998-01-27    0.146034    0.149839    0.144607    0.145558  112235200   \n",
       "1998-01-28    0.146034    0.147461    0.141753    0.146034  151121600   \n",
       "1998-01-29    0.144131    0.145558    0.140802    0.140802  211881600   \n",
       "1998-01-30    0.139374    0.143655    0.138898    0.139374  162444800   \n",
       "...                ...         ...         ...         ...        ...   \n",
       "2023-01-19  134.080002  136.250000  133.770004  135.270004   58280400   \n",
       "2023-01-20  135.279999  138.020004  134.220001  137.869995   79972200   \n",
       "2023-01-23  138.119995  143.320007  137.899994  141.110001   81760300   \n",
       "2023-01-24  140.309998  143.160004  140.300003  142.529999   66435100   \n",
       "2023-01-25  140.889999  142.429993  138.809998  141.860001   65652500   \n",
       "\n",
       "            Dividends  Stock Splits    tomorrow  target        ma_3  \\\n",
       "date                                                                  \n",
       "1998-01-26        0.0             0    0.145558       0         NaN   \n",
       "1998-01-27        0.0             0    0.146034       1         NaN   \n",
       "1998-01-28        0.0             0    0.140802       0    0.146509   \n",
       "1998-01-29        0.0             0    0.139374       0    0.144131   \n",
       "1998-01-30        0.0             0    0.134617       0    0.142070   \n",
       "...               ...           ...         ...     ...         ...   \n",
       "2023-01-19        0.0             0  137.869995       1  135.473338   \n",
       "2023-01-20        0.0             0  141.110001       1  136.116669   \n",
       "2023-01-23        0.0             0  142.529999       1  138.083333   \n",
       "2023-01-24        0.0             0  141.860001       0  140.503332   \n",
       "2023-01-25        0.0             0         NaN       0  141.833333   \n",
       "\n",
       "                  ma_5        ma_7       ma_30       ma_60       ma_90  \\\n",
       "date                                                                     \n",
       "1998-01-26         NaN         NaN         NaN         NaN         NaN   \n",
       "1998-01-27         NaN         NaN         NaN         NaN         NaN   \n",
       "1998-01-28         NaN         NaN         NaN         NaN         NaN   \n",
       "1998-01-29         NaN         NaN         NaN         NaN         NaN   \n",
       "1998-01-30    0.143941         NaN         NaN         NaN         NaN   \n",
       "...                ...         ...         ...         ...         ...   \n",
       "2023-01-19  134.918002  134.115716  134.256333  140.599191  142.731844   \n",
       "2023-01-20  135.810001  135.135716  134.088333  140.410316  142.450851   \n",
       "2023-01-23  137.080002  136.224287  134.093999  140.227354  142.312237   \n",
       "2023-01-24  138.398001  137.527143  134.090000  140.117810  142.173095   \n",
       "2023-01-25  139.728000  138.541430  134.080000  140.072807  142.059122   \n",
       "\n",
       "                ma_180      ma_240      ma_360  \n",
       "date                                            \n",
       "1998-01-26         NaN         NaN         NaN  \n",
       "1998-01-27         NaN         NaN         NaN  \n",
       "1998-01-28         NaN         NaN         NaN  \n",
       "1998-01-29         NaN         NaN         NaN  \n",
       "1998-01-30         NaN         NaN         NaN  \n",
       "...                ...         ...         ...  \n",
       "2023-01-19  147.066833  151.778893  153.460978  \n",
       "2023-01-20  146.950768  151.638295  153.427203  \n",
       "2023-01-23  146.816533  151.514224  153.404993  \n",
       "2023-01-24  146.741344  151.382922  153.397289  \n",
       "2023-01-25  146.658334  151.242813  153.386786  \n",
       "\n",
       "[6292 rows x 18 columns]"
      ]
     },
     "execution_count": 134,
     "metadata": {},
     "output_type": "execute_result"
    }
   ],
   "source": [
    "data"
   ]
  },
  {
   "cell_type": "code",
   "execution_count": 135,
   "id": "030a9535-dbc3-4ec7-b63b-43bbddf2e0ac",
   "metadata": {},
   "outputs": [
    {
     "data": {
      "text/plain": [
       "<AxesSubplot:xlabel='date'>"
      ]
     },
     "execution_count": 135,
     "metadata": {},
     "output_type": "execute_result"
    },
    {
     "data": {
      "image/png": "[encoded data removed]",
      "text/plain": [
       "<Figure size 1000x1200 with 1 Axes>"
      ]
     },
     "metadata": {},
     "output_type": "display_data"
    }
   ],
   "source": [
    "data[['Close','ma_3','ma_5','ma_7','ma_30','ma_60','ma_90','ma_180','ma_240','ma_360']].plot(xlim=['2000','2024'],figsize=(10,12))"
   ]
  },
  {
   "cell_type": "markdown",
   "id": "c7c3ad35-d972-43a2-8c11-75fa5a8c2ffb",
   "metadata": {},
   "source": [
    "## Cummulative Moving Average"
   ]
  },
  {
   "cell_type": "markdown",
   "id": "ca981179-b723-43fa-bf45-3a770c9e0b10",
   "metadata": {},
   "source": [
    "We use expanding function "
   ]
  },
  {
   "cell_type": "code",
   "execution_count": 136,
   "id": "c5af8b27-6809-444d-9f62-7701f4d2b0e6",
   "metadata": {},
   "outputs": [],
   "source": [
    "data['cma']=data['Close'].expanding().mean()"
   ]
  },
  {
   "cell_type": "code",
   "execution_count": 137,
   "id": "6791344c-fa32-48f9-a675-eedb7d36e1aa",
   "metadata": {},
   "outputs": [
    {
     "data": {
      "text/plain": [
       "<AxesSubplot:xlabel='date'>"
      ]
     },
     "execution_count": 137,
     "metadata": {},
     "output_type": "execute_result"
    },
    {
     "data": {
      "image/png": "[encoded data removed]",
      "text/plain": [
       "<Figure size 640x480 with 1 Axes>"
      ]
     },
     "metadata": {},
     "output_type": "display_data"
    }
   ],
   "source": [
    "data.cma.plot()"
   ]
  },
  {
   "cell_type": "code",
   "execution_count": 138,
   "id": "7e71e98c-6e39-4b04-aef1-36e5a33292d6",
   "metadata": {},
   "outputs": [],
   "source": [
    "data['exp_3']=data['Close'].ewm(span=3).mean()"
   ]
  },
  {
   "cell_type": "code",
   "execution_count": 139,
   "id": "5675abce-78f1-4b63-ad52-4af908fef8fc",
   "metadata": {},
   "outputs": [],
   "source": [
    "data['exp_5']=data['Close'].ewm(span=5).mean()"
   ]
  },
  {
   "cell_type": "code",
   "execution_count": 140,
   "id": "8a5f8dc8-44a8-4459-b402-ad5f75c420ee",
   "metadata": {},
   "outputs": [],
   "source": [
    "data['exp_7']=data['Close'].ewm(span=7).mean()"
   ]
  },
  {
   "cell_type": "code",
   "execution_count": 141,
   "id": "4a137a13-dcfc-4aa6-86c2-6e7c47fe9c45",
   "metadata": {},
   "outputs": [],
   "source": [
    "data['exp_30']=data['Close'].ewm(span=30).mean()"
   ]
  },
  {
   "cell_type": "code",
   "execution_count": 142,
   "id": "be2d5212-9ae7-4f3e-91d7-53fb04cecd58",
   "metadata": {},
   "outputs": [],
   "source": [
    "data['exp_60']=data['Close'].ewm(span=60).mean()"
   ]
  },
  {
   "cell_type": "code",
   "execution_count": 143,
   "id": "19c74c36-89f0-469d-8193-d5da8c90caa2",
   "metadata": {},
   "outputs": [],
   "source": [
    "data['exp_90']=data['Close'].ewm(span=90).mean()"
   ]
  },
  {
   "cell_type": "code",
   "execution_count": 144,
   "id": "4551e24a-cd6b-420d-a722-215da2b4931c",
   "metadata": {},
   "outputs": [],
   "source": [
    "data['exp_180']=data['Close'].ewm(span=180).mean()"
   ]
  },
  {
   "cell_type": "code",
   "execution_count": 145,
   "id": "deafb9df-9a97-4872-a715-c68a37d4e748",
   "metadata": {},
   "outputs": [],
   "source": [
    "data['exp_240']=data['Close'].ewm(span=240).mean()"
   ]
  },
  {
   "cell_type": "code",
   "execution_count": 146,
   "id": "dab66c6b-e2ac-4ec4-ae08-80bf32430745",
   "metadata": {},
   "outputs": [],
   "source": [
    "data['exp_360']=data['Close'].ewm(span=360).mean()"
   ]
  },
  {
   "cell_type": "code",
   "execution_count": 147,
   "id": "3a9e044b-4582-460e-b0c3-4205a4cfce65",
   "metadata": {},
   "outputs": [
    {
     "data": {
      "text/html": [
       "<div>\n",
       "<style scoped>\n",
       "    .dataframe tbody tr th:only-of-type {\n",
       "        vertical-align: middle;\n",
       "    }\n",
       "\n",
       "    .dataframe tbody tr th {\n",
       "        vertical-align: top;\n",
       "    }\n",
       "\n",
       "    .dataframe thead th {\n",
       "        text-align: right;\n",
       "    }\n",
       "</style>\n",
       "<table border=\"1\" class=\"dataframe\">\n",
       "  <thead>\n",
       "    <tr style=\"text-align: right;\">\n",
       "      <th></th>\n",
       "      <th>Open</th>\n",
       "      <th>High</th>\n",
       "      <th>Low</th>\n",
       "      <th>Close</th>\n",
       "      <th>Volume</th>\n",
       "      <th>Dividends</th>\n",
       "      <th>Stock Splits</th>\n",
       "      <th>tomorrow</th>\n",
       "      <th>target</th>\n",
       "      <th>ma_3</th>\n",
       "      <th>...</th>\n",
       "      <th>cma</th>\n",
       "      <th>exp_3</th>\n",
       "      <th>exp_5</th>\n",
       "      <th>exp_7</th>\n",
       "      <th>exp_30</th>\n",
       "      <th>exp_60</th>\n",
       "      <th>exp_90</th>\n",
       "      <th>exp_180</th>\n",
       "      <th>exp_240</th>\n",
       "      <th>exp_360</th>\n",
       "    </tr>\n",
       "    <tr>\n",
       "      <th>date</th>\n",
       "      <th></th>\n",
       "      <th></th>\n",
       "      <th></th>\n",
       "      <th></th>\n",
       "      <th></th>\n",
       "      <th></th>\n",
       "      <th></th>\n",
       "      <th></th>\n",
       "      <th></th>\n",
       "      <th></th>\n",
       "      <th></th>\n",
       "      <th></th>\n",
       "      <th></th>\n",
       "      <th></th>\n",
       "      <th></th>\n",
       "      <th></th>\n",
       "      <th></th>\n",
       "      <th></th>\n",
       "      <th></th>\n",
       "      <th></th>\n",
       "      <th></th>\n",
       "    </tr>\n",
       "  </thead>\n",
       "  <tbody>\n",
       "    <tr>\n",
       "      <th>1998-01-26</th>\n",
       "      <td>0.147936</td>\n",
       "      <td>0.148888</td>\n",
       "      <td>0.143180</td>\n",
       "      <td>0.147936</td>\n",
       "      <td>146440000</td>\n",
       "      <td>0.0</td>\n",
       "      <td>0</td>\n",
       "      <td>0.145558</td>\n",
       "      <td>0</td>\n",
       "      <td>NaN</td>\n",
       "      <td>...</td>\n",
       "      <td>0.147936</td>\n",
       "      <td>0.147936</td>\n",
       "      <td>0.147936</td>\n",
       "      <td>0.147936</td>\n",
       "      <td>0.147936</td>\n",
       "      <td>0.147936</td>\n",
       "      <td>0.147936</td>\n",
       "      <td>0.147936</td>\n",
       "      <td>0.147936</td>\n",
       "      <td>0.147936</td>\n",
       "    </tr>\n",
       "    <tr>\n",
       "      <th>1998-01-27</th>\n",
       "      <td>0.146034</td>\n",
       "      <td>0.149839</td>\n",
       "      <td>0.144607</td>\n",
       "      <td>0.145558</td>\n",
       "      <td>112235200</td>\n",
       "      <td>0.0</td>\n",
       "      <td>0</td>\n",
       "      <td>0.146034</td>\n",
       "      <td>1</td>\n",
       "      <td>NaN</td>\n",
       "      <td>...</td>\n",
       "      <td>0.146747</td>\n",
       "      <td>0.146351</td>\n",
       "      <td>0.146509</td>\n",
       "      <td>0.146577</td>\n",
       "      <td>0.146708</td>\n",
       "      <td>0.146727</td>\n",
       "      <td>0.146734</td>\n",
       "      <td>0.146741</td>\n",
       "      <td>0.146742</td>\n",
       "      <td>0.146744</td>\n",
       "    </tr>\n",
       "    <tr>\n",
       "      <th>1998-01-28</th>\n",
       "      <td>0.146034</td>\n",
       "      <td>0.147461</td>\n",
       "      <td>0.141753</td>\n",
       "      <td>0.146034</td>\n",
       "      <td>151121600</td>\n",
       "      <td>0.0</td>\n",
       "      <td>0</td>\n",
       "      <td>0.140802</td>\n",
       "      <td>0</td>\n",
       "      <td>0.146509</td>\n",
       "      <td>...</td>\n",
       "      <td>0.146509</td>\n",
       "      <td>0.146170</td>\n",
       "      <td>0.146284</td>\n",
       "      <td>0.146342</td>\n",
       "      <td>0.146468</td>\n",
       "      <td>0.146488</td>\n",
       "      <td>0.146495</td>\n",
       "      <td>0.146502</td>\n",
       "      <td>0.146504</td>\n",
       "      <td>0.146506</td>\n",
       "    </tr>\n",
       "    <tr>\n",
       "      <th>1998-01-29</th>\n",
       "      <td>0.144131</td>\n",
       "      <td>0.145558</td>\n",
       "      <td>0.140802</td>\n",
       "      <td>0.140802</td>\n",
       "      <td>211881600</td>\n",
       "      <td>0.0</td>\n",
       "      <td>0</td>\n",
       "      <td>0.139374</td>\n",
       "      <td>0</td>\n",
       "      <td>0.144131</td>\n",
       "      <td>...</td>\n",
       "      <td>0.145082</td>\n",
       "      <td>0.143307</td>\n",
       "      <td>0.144007</td>\n",
       "      <td>0.144316</td>\n",
       "      <td>0.144907</td>\n",
       "      <td>0.144995</td>\n",
       "      <td>0.145024</td>\n",
       "      <td>0.145053</td>\n",
       "      <td>0.145061</td>\n",
       "      <td>0.145068</td>\n",
       "    </tr>\n",
       "    <tr>\n",
       "      <th>1998-01-30</th>\n",
       "      <td>0.139374</td>\n",
       "      <td>0.143655</td>\n",
       "      <td>0.138898</td>\n",
       "      <td>0.139374</td>\n",
       "      <td>162444800</td>\n",
       "      <td>0.0</td>\n",
       "      <td>0</td>\n",
       "      <td>0.134617</td>\n",
       "      <td>0</td>\n",
       "      <td>0.142070</td>\n",
       "      <td>...</td>\n",
       "      <td>0.143941</td>\n",
       "      <td>0.141277</td>\n",
       "      <td>0.142228</td>\n",
       "      <td>0.142696</td>\n",
       "      <td>0.143648</td>\n",
       "      <td>0.143794</td>\n",
       "      <td>0.143843</td>\n",
       "      <td>0.143892</td>\n",
       "      <td>0.143904</td>\n",
       "      <td>0.143916</td>\n",
       "    </tr>\n",
       "    <tr>\n",
       "      <th>...</th>\n",
       "      <td>...</td>\n",
       "      <td>...</td>\n",
       "      <td>...</td>\n",
       "      <td>...</td>\n",
       "      <td>...</td>\n",
       "      <td>...</td>\n",
       "      <td>...</td>\n",
       "      <td>...</td>\n",
       "      <td>...</td>\n",
       "      <td>...</td>\n",
       "      <td>...</td>\n",
       "      <td>...</td>\n",
       "      <td>...</td>\n",
       "      <td>...</td>\n",
       "      <td>...</td>\n",
       "      <td>...</td>\n",
       "      <td>...</td>\n",
       "      <td>...</td>\n",
       "      <td>...</td>\n",
       "      <td>...</td>\n",
       "      <td>...</td>\n",
       "    </tr>\n",
       "    <tr>\n",
       "      <th>2023-01-19</th>\n",
       "      <td>134.080002</td>\n",
       "      <td>136.250000</td>\n",
       "      <td>133.770004</td>\n",
       "      <td>135.270004</td>\n",
       "      <td>58280400</td>\n",
       "      <td>0.0</td>\n",
       "      <td>0</td>\n",
       "      <td>137.869995</td>\n",
       "      <td>1</td>\n",
       "      <td>135.473338</td>\n",
       "      <td>...</td>\n",
       "      <td>26.755566</td>\n",
       "      <td>135.136187</td>\n",
       "      <td>134.578412</td>\n",
       "      <td>133.964485</td>\n",
       "      <td>134.838612</td>\n",
       "      <td>138.832865</td>\n",
       "      <td>141.709510</td>\n",
       "      <td>146.325944</td>\n",
       "      <td>147.130622</td>\n",
       "      <td>145.302829</td>\n",
       "    </tr>\n",
       "    <tr>\n",
       "      <th>2023-01-20</th>\n",
       "      <td>135.279999</td>\n",
       "      <td>138.020004</td>\n",
       "      <td>134.220001</td>\n",
       "      <td>137.869995</td>\n",
       "      <td>79972200</td>\n",
       "      <td>0.0</td>\n",
       "      <td>0</td>\n",
       "      <td>141.110001</td>\n",
       "      <td>1</td>\n",
       "      <td>136.116669</td>\n",
       "      <td>...</td>\n",
       "      <td>26.773234</td>\n",
       "      <td>136.503091</td>\n",
       "      <td>135.675607</td>\n",
       "      <td>134.940862</td>\n",
       "      <td>135.034185</td>\n",
       "      <td>138.801296</td>\n",
       "      <td>141.625125</td>\n",
       "      <td>146.232508</td>\n",
       "      <td>147.053770</td>\n",
       "      <td>145.261650</td>\n",
       "    </tr>\n",
       "    <tr>\n",
       "      <th>2023-01-23</th>\n",
       "      <td>138.119995</td>\n",
       "      <td>143.320007</td>\n",
       "      <td>137.899994</td>\n",
       "      <td>141.110001</td>\n",
       "      <td>81760300</td>\n",
       "      <td>0.0</td>\n",
       "      <td>0</td>\n",
       "      <td>142.529999</td>\n",
       "      <td>1</td>\n",
       "      <td>138.083333</td>\n",
       "      <td>...</td>\n",
       "      <td>26.791412</td>\n",
       "      <td>138.806546</td>\n",
       "      <td>137.487071</td>\n",
       "      <td>136.483147</td>\n",
       "      <td>135.426173</td>\n",
       "      <td>138.876991</td>\n",
       "      <td>141.613803</td>\n",
       "      <td>146.175906</td>\n",
       "      <td>147.004444</td>\n",
       "      <td>145.238649</td>\n",
       "    </tr>\n",
       "    <tr>\n",
       "      <th>2023-01-24</th>\n",
       "      <td>140.309998</td>\n",
       "      <td>143.160004</td>\n",
       "      <td>140.300003</td>\n",
       "      <td>142.529999</td>\n",
       "      <td>66435100</td>\n",
       "      <td>0.0</td>\n",
       "      <td>0</td>\n",
       "      <td>141.860001</td>\n",
       "      <td>0</td>\n",
       "      <td>140.503332</td>\n",
       "      <td>...</td>\n",
       "      <td>26.809809</td>\n",
       "      <td>140.668272</td>\n",
       "      <td>139.168047</td>\n",
       "      <td>137.994860</td>\n",
       "      <td>135.884484</td>\n",
       "      <td>138.996762</td>\n",
       "      <td>141.633940</td>\n",
       "      <td>146.135619</td>\n",
       "      <td>146.967312</td>\n",
       "      <td>145.223642</td>\n",
       "    </tr>\n",
       "    <tr>\n",
       "      <th>2023-01-25</th>\n",
       "      <td>140.889999</td>\n",
       "      <td>142.429993</td>\n",
       "      <td>138.809998</td>\n",
       "      <td>141.860001</td>\n",
       "      <td>65652500</td>\n",
       "      <td>0.0</td>\n",
       "      <td>0</td>\n",
       "      <td>NaN</td>\n",
       "      <td>0</td>\n",
       "      <td>141.833333</td>\n",
       "      <td>...</td>\n",
       "      <td>26.828094</td>\n",
       "      <td>141.264136</td>\n",
       "      <td>140.065365</td>\n",
       "      <td>138.961145</td>\n",
       "      <td>136.270002</td>\n",
       "      <td>139.090638</td>\n",
       "      <td>141.638908</td>\n",
       "      <td>146.088375</td>\n",
       "      <td>146.924927</td>\n",
       "      <td>145.205007</td>\n",
       "    </tr>\n",
       "  </tbody>\n",
       "</table>\n",
       "<p>6292 rows × 28 columns</p>\n",
       "</div>"
      ],
      "text/plain": [
       "                  Open        High         Low       Close     Volume  \\\n",
       "date                                                                    \n",
       "1998-01-26    0.147936    0.148888    0.143180    0.147936  146440000   \n",
       "1998-01-27    0.146034    0.149839    0.144607    0.145558  112235200   \n",
       "1998-01-28    0.146034    0.147461    0.141753    0.146034  151121600   \n",
       "1998-01-29    0.144131    0.145558    0.140802    0.140802  211881600   \n",
       "1998-01-30    0.139374    0.143655    0.138898    0.139374  162444800   \n",
       "...                ...         ...         ...         ...        ...   \n",
       "2023-01-19  134.080002  136.250000  133.770004  135.270004   58280400   \n",
       "2023-01-20  135.279999  138.020004  134.220001  137.869995   79972200   \n",
       "2023-01-23  138.119995  143.320007  137.899994  141.110001   81760300   \n",
       "2023-01-24  140.309998  143.160004  140.300003  142.529999   66435100   \n",
       "2023-01-25  140.889999  142.429993  138.809998  141.860001   65652500   \n",
       "\n",
       "            Dividends  Stock Splits    tomorrow  target        ma_3  ...  \\\n",
       "date                                                                 ...   \n",
       "1998-01-26        0.0             0    0.145558       0         NaN  ...   \n",
       "1998-01-27        0.0             0    0.146034       1         NaN  ...   \n",
       "1998-01-28        0.0             0    0.140802       0    0.146509  ...   \n",
       "1998-01-29        0.0             0    0.139374       0    0.144131  ...   \n",
       "1998-01-30        0.0             0    0.134617       0    0.142070  ...   \n",
       "...               ...           ...         ...     ...         ...  ...   \n",
       "2023-01-19        0.0             0  137.869995       1  135.473338  ...   \n",
       "2023-01-20        0.0             0  141.110001       1  136.116669  ...   \n",
       "2023-01-23        0.0             0  142.529999       1  138.083333  ...   \n",
       "2023-01-24        0.0             0  141.860001       0  140.503332  ...   \n",
       "2023-01-25        0.0             0         NaN       0  141.833333  ...   \n",
       "\n",
       "                  cma       exp_3       exp_5       exp_7      exp_30  \\\n",
       "date                                                                    \n",
       "1998-01-26   0.147936    0.147936    0.147936    0.147936    0.147936   \n",
       "1998-01-27   0.146747    0.146351    0.146509    0.146577    0.146708   \n",
       "1998-01-28   0.146509    0.146170    0.146284    0.146342    0.146468   \n",
       "1998-01-29   0.145082    0.143307    0.144007    0.144316    0.144907   \n",
       "1998-01-30   0.143941    0.141277    0.142228    0.142696    0.143648   \n",
       "...               ...         ...         ...         ...         ...   \n",
       "2023-01-19  26.755566  135.136187  134.578412  133.964485  134.838612   \n",
       "2023-01-20  26.773234  136.503091  135.675607  134.940862  135.034185   \n",
       "2023-01-23  26.791412  138.806546  137.487071  136.483147  135.426173   \n",
       "2023-01-24  26.809809  140.668272  139.168047  137.994860  135.884484   \n",
       "2023-01-25  26.828094  141.264136  140.065365  138.961145  136.270002   \n",
       "\n",
       "                exp_60      exp_90     exp_180     exp_240     exp_360  \n",
       "date                                                                    \n",
       "1998-01-26    0.147936    0.147936    0.147936    0.147936    0.147936  \n",
       "1998-01-27    0.146727    0.146734    0.146741    0.146742    0.146744  \n",
       "1998-01-28    0.146488    0.146495    0.146502    0.146504    0.146506  \n",
       "1998-01-29    0.144995    0.145024    0.145053    0.145061    0.145068  \n",
       "1998-01-30    0.143794    0.143843    0.143892    0.143904    0.143916  \n",
       "...                ...         ...         ...         ...         ...  \n",
       "2023-01-19  138.832865  141.709510  146.325944  147.130622  145.302829  \n",
       "2023-01-20  138.801296  141.625125  146.232508  147.053770  145.261650  \n",
       "2023-01-23  138.876991  141.613803  146.175906  147.004444  145.238649  \n",
       "2023-01-24  138.996762  141.633940  146.135619  146.967312  145.223642  \n",
       "2023-01-25  139.090638  141.638908  146.088375  146.924927  145.205007  \n",
       "\n",
       "[6292 rows x 28 columns]"
      ]
     },
     "execution_count": 147,
     "metadata": {},
     "output_type": "execute_result"
    }
   ],
   "source": [
    "data\n"
   ]
  },
  {
   "cell_type": "code",
   "execution_count": 148,
   "id": "069c872f-4b05-46ff-9c19-ea1689433b90",
   "metadata": {},
   "outputs": [],
   "source": [
    "data['daily_returns']=data['Close'].pct_change()"
   ]
  },
  {
   "cell_type": "code",
   "execution_count": 149,
   "id": "dace49ec-5c68-4db3-a110-5b1b462465d4",
   "metadata": {},
   "outputs": [],
   "source": [
    "data.dropna(inplace=True)"
   ]
  },
  {
   "cell_type": "code",
   "execution_count": 150,
   "id": "3a44263f-3a99-4913-8f1b-694fd497c44a",
   "metadata": {},
   "outputs": [
    {
     "data": {
      "text/plain": [
       "Open             0\n",
       "High             0\n",
       "Low              0\n",
       "Close            0\n",
       "Volume           0\n",
       "Dividends        0\n",
       "Stock Splits     0\n",
       "tomorrow         0\n",
       "target           0\n",
       "ma_3             0\n",
       "ma_5             0\n",
       "ma_7             0\n",
       "ma_30            0\n",
       "ma_60            0\n",
       "ma_90            0\n",
       "ma_180           0\n",
       "ma_240           0\n",
       "ma_360           0\n",
       "cma              0\n",
       "exp_3            0\n",
       "exp_5            0\n",
       "exp_7            0\n",
       "exp_30           0\n",
       "exp_60           0\n",
       "exp_90           0\n",
       "exp_180          0\n",
       "exp_240          0\n",
       "exp_360          0\n",
       "daily_returns    0\n",
       "dtype: int64"
      ]
     },
     "execution_count": 150,
     "metadata": {},
     "output_type": "execute_result"
    }
   ],
   "source": [
    "data.isnull().sum()"
   ]
  },
  {
   "cell_type": "code",
   "execution_count": 151,
   "id": "3cc1335a-6a81-4e15-a182-e693b2d41b5a",
   "metadata": {},
   "outputs": [
    {
     "data": {
      "text/plain": [
       "Open             0.999808\n",
       "High             0.999910\n",
       "Low              0.999913\n",
       "Close            1.000000\n",
       "Volume          -0.426116\n",
       "Dividends        0.080355\n",
       "Stock Splits     0.008252\n",
       "tomorrow         0.999709\n",
       "target          -0.004858\n",
       "ma_3             0.999845\n",
       "ma_5             0.999685\n",
       "ma_7             0.999526\n",
       "ma_30            0.997605\n",
       "ma_60            0.995461\n",
       "ma_90            0.994003\n",
       "ma_180           0.989433\n",
       "ma_240           0.985671\n",
       "ma_360           0.979754\n",
       "cma              0.968279\n",
       "exp_3            0.999910\n",
       "exp_5            0.999791\n",
       "exp_7            0.999669\n",
       "exp_30           0.998305\n",
       "exp_60           0.996814\n",
       "exp_90           0.995482\n",
       "exp_180          0.991761\n",
       "exp_240          0.989551\n",
       "exp_360          0.986023\n",
       "daily_returns   -0.003221\n",
       "Name: Close, dtype: float64"
      ]
     },
     "execution_count": 151,
     "metadata": {},
     "output_type": "execute_result"
    }
   ],
   "source": [
    "data.corr()['Close'].T"
   ]
  },
  {
   "cell_type": "markdown",
   "id": "0797f538-0fc6-4a66-a862-ef34e658b42f",
   "metadata": {},
   "source": [
    "## 2nd Random Forest Model with MA,EMA,CMA,Daily Returns"
   ]
  },
  {
   "cell_type": "code",
   "execution_count": 152,
   "id": "8e02923c-7c5d-4a3c-b177-d1edd88b7e96",
   "metadata": {},
   "outputs": [],
   "source": [
    "\n",
    "model2 = RandomForestClassifier(n_estimators=100, min_samples_split=100, random_state=1)"
   ]
  },
  {
   "cell_type": "code",
   "execution_count": 153,
   "id": "e0aaeb5b-5fcd-4da4-b7ca-9b70ae054406",
   "metadata": {},
   "outputs": [
    {
     "data": {
      "text/plain": [
       "RandomForestClassifier(min_samples_split=100, random_state=1)"
      ]
     },
     "execution_count": 153,
     "metadata": {},
     "output_type": "execute_result"
    }
   ],
   "source": [
    "\n",
    "train = data.iloc[:5500]\n",
    "test = data.iloc[5500:]\n",
    "\n",
    "predictors = ['ma_3', 'ma_5', 'ma_7', 'ma_30', 'ma_60', 'ma_90',\n",
    "       'ma_180', 'ma_240', 'ma_360', 'cma', 'exp_3', 'exp_5', 'exp_7',\n",
    "       'exp_30', 'exp_60', 'exp_90', 'exp_180', 'exp_240', 'exp_360',\n",
    "       'daily_returns', \"Close\", \"Volume\", \"Open\", \"High\", \"Low\"]\n",
    "model2.fit(train[predictors], train[\"target\"])"
   ]
  },
  {
   "cell_type": "code",
   "execution_count": 154,
   "id": "5578bf88-b4b9-4007-9680-4ee30a02f5e5",
   "metadata": {},
   "outputs": [
    {
     "data": {
      "text/plain": [
       "0.49537037037037035"
      ]
     },
     "execution_count": 154,
     "metadata": {},
     "output_type": "execute_result"
    }
   ],
   "source": [
    "model2.score(test[predictors],test['target'])"
   ]
  },
  {
   "cell_type": "code",
   "execution_count": 155,
   "id": "6c012b16-7c0f-4d59-b9dd-17841139abff",
   "metadata": {},
   "outputs": [
    {
     "data": {
      "text/plain": [
       "0.5142857142857142"
      ]
     },
     "execution_count": 155,
     "metadata": {},
     "output_type": "execute_result"
    }
   ],
   "source": [
    "preds = model2.predict(test[predictors])\n",
    "preds = pd.Series(preds, index=test.index)\n",
    "precision_score(test[\"target\"], preds)"
   ]
  },
  {
   "cell_type": "code",
   "execution_count": 156,
   "id": "835af393-0ac4-4914-be23-2baa8d6df199",
   "metadata": {},
   "outputs": [
    {
     "name": "stdout",
     "output_type": "stream",
     "text": [
      "Accuracy is:  0.49537037037037035\n"
     ]
    }
   ],
   "source": [
    "\n",
    "ac = accuracy_score(test['target'],preds)\n",
    "print('Accuracy is: ',ac)"
   ]
  },
  {
   "cell_type": "code",
   "execution_count": 157,
   "id": "2574cc87-65c7-4847-9908-d9215ccf95da",
   "metadata": {},
   "outputs": [
    {
     "name": "stdout",
     "output_type": "stream",
     "text": [
      "              precision    recall  f1-score   support\n",
      "\n",
      "           0       0.49      0.92      0.64       213\n",
      "           1       0.51      0.08      0.14       219\n",
      "\n",
      "    accuracy                           0.50       432\n",
      "   macro avg       0.50      0.50      0.39       432\n",
      "weighted avg       0.50      0.50      0.39       432\n",
      "\n"
     ]
    },
    {
     "data": {
      "image/png": "[encoded data removed]",
      "text/plain": [
       "<Figure size 640x480 with 2 Axes>"
      ]
     },
     "metadata": {},
     "output_type": "display_data"
    }
   ],
   "source": [
    "cm = confusion_matrix(test['target'], preds)\n",
    "sns.heatmap(cm,annot=True,fmt=\"d\");\n",
    "print(classification_report(test['target'], preds))"
   ]
  },
  {
   "cell_type": "code",
   "execution_count": 158,
   "id": "a32cf184-63e0-4939-8b31-ee98879f4337",
   "metadata": {},
   "outputs": [
    {
     "data": {
      "text/plain": [
       "Index(['Open', 'High', 'Low', 'Close', 'Volume', 'Dividends', 'Stock Splits',\n",
       "       'tomorrow', 'target', 'ma_3', 'ma_5', 'ma_7', 'ma_30', 'ma_60', 'ma_90',\n",
       "       'ma_180', 'ma_240', 'ma_360', 'cma', 'exp_3', 'exp_5', 'exp_7',\n",
       "       'exp_30', 'exp_60', 'exp_90', 'exp_180', 'exp_240', 'exp_360',\n",
       "       'daily_returns'],\n",
       "      dtype='object')"
      ]
     },
     "execution_count": 158,
     "metadata": {},
     "output_type": "execute_result"
    }
   ],
   "source": [
    "data.columns"
   ]
  },
  {
   "cell_type": "markdown",
   "id": "e8100148-53e4-4d9d-9851-71eb77520fd1",
   "metadata": {},
   "source": [
    "## 2nd Logistic Model with MA,EMA,CMA,Daily Returns"
   ]
  },
  {
   "cell_type": "code",
   "execution_count": 164,
   "id": "ca50d6fb-8e2a-4c23-bfd9-fc5d7aa9be18",
   "metadata": {},
   "outputs": [
    {
     "data": {
      "text/plain": [
       "LogisticRegression()"
      ]
     },
     "execution_count": 164,
     "metadata": {},
     "output_type": "execute_result"
    }
   ],
   "source": [
    "\n",
    "log.fit(train[predictors], train[\"target\"])\n",
    "\n",
    "#log.score(test[predictors],test['target'])"
   ]
  },
  {
   "cell_type": "code",
   "execution_count": 165,
   "id": "cdf6a97b-3030-47fd-b490-480d7e2e1012",
   "metadata": {},
   "outputs": [],
   "source": [
    "preds = log.predict(test[predictors])"
   ]
  },
  {
   "cell_type": "code",
   "execution_count": 166,
   "id": "c7e5027d-8b7c-42f3-9b16-79d7db4732a3",
   "metadata": {},
   "outputs": [
    {
     "data": {
      "text/plain": [
       "0.5069444444444444"
      ]
     },
     "execution_count": 166,
     "metadata": {},
     "output_type": "execute_result"
    }
   ],
   "source": [
    "preds = log.predict(test[predictors])\n",
    "preds = pd.Series(preds, index=test.index)\n",
    "precision_score(test[\"target\"], preds)"
   ]
  },
  {
   "cell_type": "code",
   "execution_count": 167,
   "id": "c4c2e79e-37c9-41ac-a362-7c1606778164",
   "metadata": {},
   "outputs": [
    {
     "data": {
      "text/plain": [
       "0.5069444444444444"
      ]
     },
     "execution_count": 167,
     "metadata": {},
     "output_type": "execute_result"
    }
   ],
   "source": [
    "\n",
    "log.score(test[predictors],test[\"target\"],)"
   ]
  },
  {
   "cell_type": "code",
   "execution_count": null,
   "id": "f79957b1-b8a3-4b01-964a-ed3e8d67f791",
   "metadata": {},
   "outputs": [],
   "source": []
  }
 ],
 "metadata": {
  "kernelspec": {
   "display_name": "Python 3 (ipykernel)",
   "language": "python",
   "name": "python3"
  },
  "language_info": {
   "codemirror_mode": {
    "name": "ipython",
    "version": 3
   },
   "file_extension": ".py",
   "mimetype": "text/x-python",
   "name": "python",
   "nbconvert_exporter": "python",
   "pygments_lexer": "ipython3",
   "version": "3.9.13"
  }
 },
 "nbformat": 4,
 "nbformat_minor": 5
}
