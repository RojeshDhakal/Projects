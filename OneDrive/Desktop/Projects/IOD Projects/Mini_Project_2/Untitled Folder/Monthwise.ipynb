{
 "cells": [
  {
   "cell_type": "markdown",
   "id": "10c5ca7a-e63d-4452-bd5b-27f8b8755aa6",
   "metadata": {},
   "source": [
    "## Monthwise"
   ]
  },
  {
   "cell_type": "code",
   "execution_count": 2,
   "id": "d7d69eed-2d01-410d-a33c-7f4166de2af6",
   "metadata": {},
   "outputs": [],
   "source": [
    "import pandas as pd"
   ]
  },
  {
   "cell_type": "code",
   "execution_count": 11,
   "id": "4a4b2e73-1226-418c-8642-27cb4fb43e7e",
   "metadata": {},
   "outputs": [
    {
     "data": {
      "text/html": [
       "<div>\n",
       "<style scoped>\n",
       "    .dataframe tbody tr th:only-of-type {\n",
       "        vertical-align: middle;\n",
       "    }\n",
       "\n",
       "    .dataframe tbody tr th {\n",
       "        vertical-align: top;\n",
       "    }\n",
       "\n",
       "    .dataframe thead th {\n",
       "        text-align: right;\n",
       "    }\n",
       "</style>\n",
       "<table border=\"1\" class=\"dataframe\">\n",
       "  <thead>\n",
       "    <tr style=\"text-align: right;\">\n",
       "      <th></th>\n",
       "      <th>Open</th>\n",
       "      <th>High</th>\n",
       "      <th>Low</th>\n",
       "      <th>Close</th>\n",
       "      <th>Volume</th>\n",
       "      <th>Dividends</th>\n",
       "      <th>Stock Splits</th>\n",
       "    </tr>\n",
       "    <tr>\n",
       "      <th>date</th>\n",
       "      <th></th>\n",
       "      <th></th>\n",
       "      <th></th>\n",
       "      <th></th>\n",
       "      <th></th>\n",
       "      <th></th>\n",
       "      <th></th>\n",
       "    </tr>\n",
       "  </thead>\n",
       "  <tbody>\n",
       "    <tr>\n",
       "      <th>1998-01-26</th>\n",
       "      <td>0.147936</td>\n",
       "      <td>0.148888</td>\n",
       "      <td>0.143180</td>\n",
       "      <td>0.147936</td>\n",
       "      <td>146440000</td>\n",
       "      <td>0.0</td>\n",
       "      <td>0</td>\n",
       "    </tr>\n",
       "    <tr>\n",
       "      <th>1998-01-27</th>\n",
       "      <td>0.146034</td>\n",
       "      <td>0.149839</td>\n",
       "      <td>0.144607</td>\n",
       "      <td>0.145558</td>\n",
       "      <td>112235200</td>\n",
       "      <td>0.0</td>\n",
       "      <td>0</td>\n",
       "    </tr>\n",
       "    <tr>\n",
       "      <th>1998-01-28</th>\n",
       "      <td>0.146034</td>\n",
       "      <td>0.147461</td>\n",
       "      <td>0.141753</td>\n",
       "      <td>0.146034</td>\n",
       "      <td>151121600</td>\n",
       "      <td>0.0</td>\n",
       "      <td>0</td>\n",
       "    </tr>\n",
       "    <tr>\n",
       "      <th>1998-01-29</th>\n",
       "      <td>0.144131</td>\n",
       "      <td>0.145558</td>\n",
       "      <td>0.140802</td>\n",
       "      <td>0.140802</td>\n",
       "      <td>211881600</td>\n",
       "      <td>0.0</td>\n",
       "      <td>0</td>\n",
       "    </tr>\n",
       "    <tr>\n",
       "      <th>1998-01-30</th>\n",
       "      <td>0.139374</td>\n",
       "      <td>0.143655</td>\n",
       "      <td>0.138898</td>\n",
       "      <td>0.139374</td>\n",
       "      <td>162444800</td>\n",
       "      <td>0.0</td>\n",
       "      <td>0</td>\n",
       "    </tr>\n",
       "    <tr>\n",
       "      <th>...</th>\n",
       "      <td>...</td>\n",
       "      <td>...</td>\n",
       "      <td>...</td>\n",
       "      <td>...</td>\n",
       "      <td>...</td>\n",
       "      <td>...</td>\n",
       "      <td>...</td>\n",
       "    </tr>\n",
       "    <tr>\n",
       "      <th>2023-01-19</th>\n",
       "      <td>134.080002</td>\n",
       "      <td>136.250000</td>\n",
       "      <td>133.770004</td>\n",
       "      <td>135.270004</td>\n",
       "      <td>58280400</td>\n",
       "      <td>0.0</td>\n",
       "      <td>0</td>\n",
       "    </tr>\n",
       "    <tr>\n",
       "      <th>2023-01-20</th>\n",
       "      <td>135.279999</td>\n",
       "      <td>138.020004</td>\n",
       "      <td>134.220001</td>\n",
       "      <td>137.869995</td>\n",
       "      <td>79972200</td>\n",
       "      <td>0.0</td>\n",
       "      <td>0</td>\n",
       "    </tr>\n",
       "    <tr>\n",
       "      <th>2023-01-23</th>\n",
       "      <td>138.119995</td>\n",
       "      <td>143.320007</td>\n",
       "      <td>137.899994</td>\n",
       "      <td>141.110001</td>\n",
       "      <td>81760300</td>\n",
       "      <td>0.0</td>\n",
       "      <td>0</td>\n",
       "    </tr>\n",
       "    <tr>\n",
       "      <th>2023-01-24</th>\n",
       "      <td>140.309998</td>\n",
       "      <td>143.160004</td>\n",
       "      <td>140.300003</td>\n",
       "      <td>142.529999</td>\n",
       "      <td>66435100</td>\n",
       "      <td>0.0</td>\n",
       "      <td>0</td>\n",
       "    </tr>\n",
       "    <tr>\n",
       "      <th>2023-01-25</th>\n",
       "      <td>140.889999</td>\n",
       "      <td>142.429993</td>\n",
       "      <td>138.809998</td>\n",
       "      <td>141.860001</td>\n",
       "      <td>65652500</td>\n",
       "      <td>0.0</td>\n",
       "      <td>0</td>\n",
       "    </tr>\n",
       "  </tbody>\n",
       "</table>\n",
       "<p>6292 rows × 7 columns</p>\n",
       "</div>"
      ],
      "text/plain": [
       "                  Open        High         Low       Close     Volume  \\\n",
       "date                                                                    \n",
       "1998-01-26    0.147936    0.148888    0.143180    0.147936  146440000   \n",
       "1998-01-27    0.146034    0.149839    0.144607    0.145558  112235200   \n",
       "1998-01-28    0.146034    0.147461    0.141753    0.146034  151121600   \n",
       "1998-01-29    0.144131    0.145558    0.140802    0.140802  211881600   \n",
       "1998-01-30    0.139374    0.143655    0.138898    0.139374  162444800   \n",
       "...                ...         ...         ...         ...        ...   \n",
       "2023-01-19  134.080002  136.250000  133.770004  135.270004   58280400   \n",
       "2023-01-20  135.279999  138.020004  134.220001  137.869995   79972200   \n",
       "2023-01-23  138.119995  143.320007  137.899994  141.110001   81760300   \n",
       "2023-01-24  140.309998  143.160004  140.300003  142.529999   66435100   \n",
       "2023-01-25  140.889999  142.429993  138.809998  141.860001   65652500   \n",
       "\n",
       "            Dividends  Stock Splits  \n",
       "date                                 \n",
       "1998-01-26        0.0             0  \n",
       "1998-01-27        0.0             0  \n",
       "1998-01-28        0.0             0  \n",
       "1998-01-29        0.0             0  \n",
       "1998-01-30        0.0             0  \n",
       "...               ...           ...  \n",
       "2023-01-19        0.0             0  \n",
       "2023-01-20        0.0             0  \n",
       "2023-01-23        0.0             0  \n",
       "2023-01-24        0.0             0  \n",
       "2023-01-25        0.0             0  \n",
       "\n",
       "[6292 rows x 7 columns]"
      ]
     },
     "execution_count": 11,
     "metadata": {},
     "output_type": "execute_result"
    }
   ],
   "source": [
    "data=pd.read_excel('../DATA/AAPLStocks.xlsx')\n",
    "data.drop('Unnamed: 0', axis=1, inplace=True)\n",
    "data['date']= pd.to_datetime(data[['Year', 'month','day']])\n",
    "data.set_index('date', inplace=True)\n",
    "data.drop(['Year', 'month','day'], axis=1,inplace=True)\n",
    "data"
   ]
  },
  {
   "cell_type": "code",
   "execution_count": 12,
   "id": "243e946e-5dd6-4d0c-bd76-dd6e239e7b22",
   "metadata": {},
   "outputs": [],
   "source": [
    "month=data[data['Close']>140].copy()\n",
    "month.reset_index('date',inplace=True)\n",
    "month.drop([ 'Open', 'High', 'Low',  'Volume', 'Dividends','Stock Splits'], axis=1,inplace=True)"
   ]
  },
  {
   "cell_type": "code",
   "execution_count": 15,
   "id": "47546362-8bcb-4a3d-b5b7-5f1ff8b9b40f",
   "metadata": {},
   "outputs": [],
   "source": [
    "monthvise=month.groupby(month['date'].dt.strftime('%B'))[['Close']].mean()\n",
    "new_order = ['January', 'February', 'March', 'April', 'May', 'June', 'July', 'August', 'September', 'October', 'November', 'December'] \n",
    "monthvise = monthvise.reindex(new_order, axis=0)"
   ]
  },
  {
   "cell_type": "code",
   "execution_count": 16,
   "id": "637a5934-a747-413b-8d2d-db462f1587a6",
   "metadata": {},
   "outputs": [
    {
     "data": {
      "text/plain": [
       "<AxesSubplot:xlabel='date'>"
      ]
     },
     "execution_count": 16,
     "metadata": {},
     "output_type": "execute_result"
    },
    {
     "data": {
      "image/png": "[encoded data removed]",
      "text/plain": [
       "<Figure size 640x480 with 1 Axes>"
      ]
     },
     "metadata": {},
     "output_type": "display_data"
    }
   ],
   "source": [
    "monthvise.plot()"
   ]
  },
  {
   "cell_type": "code",
   "execution_count": null,
   "id": "c6abe0ce-bb81-44df-a058-2ad63abc5196",
   "metadata": {},
   "outputs": [],
   "source": []
  }
 ],
 "metadata": {
  "kernelspec": {
   "display_name": "Python 3 (ipykernel)",
   "language": "python",
   "name": "python3"
  },
  "language_info": {
   "codemirror_mode": {
    "name": "ipython",
    "version": 3
   },
   "file_extension": ".py",
   "mimetype": "text/x-python",
   "name": "python",
   "nbconvert_exporter": "python",
   "pygments_lexer": "ipython3",
   "version": "3.9.13"
  }
 },
 "nbformat": 4,
 "nbformat_minor": 5
}
